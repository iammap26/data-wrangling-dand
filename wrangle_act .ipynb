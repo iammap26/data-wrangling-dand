{
 "cells": [
  {
   "cell_type": "markdown",
   "metadata": {},
   "source": [
    "# Gathering the data"
   ]
  },
  {
   "cell_type": "code",
   "execution_count": 1,
   "metadata": {},
   "outputs": [],
   "source": [
    "#All important packages\n",
    "import pandas as pd\n",
    "import numpy as np\n",
    "import requests\n",
    "import tweepy\n",
    "import json\n",
    "import os\n",
    "import re\n",
    "import matplotlib.pyplot as plt\n",
    "%matplotlib inline"
   ]
  },
  {
   "cell_type": "code",
   "execution_count": 2,
   "metadata": {
    "scrolled": true
   },
   "outputs": [],
   "source": [
    "#Reading the CSV file\n",
    "tweet_archive = pd.read_csv('twitter-archive-enhanced.csv')"
   ]
  },
  {
   "cell_type": "code",
   "execution_count": 3,
   "metadata": {},
   "outputs": [],
   "source": [
    "url = 'https://d17h27t6h515a5.cloudfront.net/topher/2017/August/599fd2ad_image-predictions/image-predictions.tsv'\n",
    "response = requests.get(url)\n",
    "with open(os.path.join(os.getcwd(), url.split('/')[-1]), mode = 'wb') as file:\n",
    "    file.write(response.content)"
   ]
  },
  {
   "cell_type": "code",
   "execution_count": 4,
   "metadata": {},
   "outputs": [],
   "source": [
    "doggo_df = pd.read_csv('image-predictions.tsv', sep='\\t')"
   ]
  },
  {
   "cell_type": "code",
   "execution_count": 5,
   "metadata": {},
   "outputs": [
    {
     "name": "stdout",
     "output_type": "stream",
     "text": [
      "Oops! couldn't find the tweet!\n",
      "Oops! couldn't find the tweet!\n",
      "Oops! couldn't find the tweet!\n",
      "Oops! couldn't find the tweet!\n",
      "Oops! couldn't find the tweet!\n",
      "Oops! couldn't find the tweet!\n",
      "Oops! couldn't find the tweet!\n",
      "Oops! couldn't find the tweet!\n",
      "Oops! couldn't find the tweet!\n",
      "Oops! couldn't find the tweet!\n",
      "Oops! couldn't find the tweet!\n",
      "Oops! couldn't find the tweet!\n",
      "Oops! couldn't find the tweet!\n",
      "Oops! couldn't find the tweet!\n",
      "Oops! couldn't find the tweet!\n",
      "Rate limit reached. Sleeping for: 737\n",
      "Oops! couldn't find the tweet!\n",
      "Oops! couldn't find the tweet!\n",
      "Rate limit reached. Sleeping for: 736\n",
      "Finished retrieving tweets!\n"
     ]
    }
   ],
   "source": [
    "consumer_key = ''\n",
    "consumer_secret = ''\n",
    "access_token = ''\n",
    "access_secret = ''\n",
    "\n",
    "auth = tweepy.OAuthHandler(consumer_key, consumer_secret)\n",
    "auth.set_access_token(access_token, access_secret)\n",
    "\n",
    "api = tweepy.API(auth, wait_on_rate_limit = True, wait_on_rate_limit_notify = True )\n",
    "\n",
    "deleted_tweets = []\n",
    "\n",
    "with open(os.path.join(os.getcwd(), 'tweet_json.txt'), mode = 'w') as file:\n",
    "    for twt_id in tweet_archive['tweet_id']:\n",
    "        try:\n",
    "            tweet = api.get_status(twt_id, tweet_mode = 'extended')\n",
    "            file.write(json.dumps(tweet._json) + '\\n')\n",
    "        except:\n",
    "            print('Oops! couldn\\'t find the tweet!')\n",
    "            deleted_tweets.append(twt_id)\n",
    "       \n",
    "#When loop finishes, we set up the program to let us know.        \n",
    "print(\"Finished retrieving tweets!\")\n"
   ]
  },
  {
   "cell_type": "code",
   "execution_count": 6,
   "metadata": {},
   "outputs": [],
   "source": [
    "t_id = []\n",
    "t_fc = []\n",
    "t_rtc = []\n",
    "with open('tweet_json.txt', mode = 'r') as f:\n",
    "     for line in f.readlines():\n",
    "            tweet_data = json.loads(line)\n",
    "            t_id.append(tweet_data['id'])\n",
    "            t_fc.append(tweet_data['favorite_count'])\n",
    "            t_rtc.append(tweet_data['retweet_count'])\n",
    "            \n",
    "doggo_data = pd.DataFrame({'tweet_id':t_id, 'favorite_count':t_fc, 'retweet_count':t_rtc})"
   ]
  },
  {
   "cell_type": "markdown",
   "metadata": {},
   "source": [
    "Now that we have data loaded in a JSON file, we will start the process of :\n",
    "\n",
    "# assessing the data."
   ]
  },
  {
   "cell_type": "code",
   "execution_count": 7,
   "metadata": {},
   "outputs": [
    {
     "data": {
      "text/html": [
       "<div>\n",
       "<style scoped>\n",
       "    .dataframe tbody tr th:only-of-type {\n",
       "        vertical-align: middle;\n",
       "    }\n",
       "\n",
       "    .dataframe tbody tr th {\n",
       "        vertical-align: top;\n",
       "    }\n",
       "\n",
       "    .dataframe thead th {\n",
       "        text-align: right;\n",
       "    }\n",
       "</style>\n",
       "<table border=\"1\" class=\"dataframe\">\n",
       "  <thead>\n",
       "    <tr style=\"text-align: right;\">\n",
       "      <th></th>\n",
       "      <th>tweet_id</th>\n",
       "      <th>in_reply_to_status_id</th>\n",
       "      <th>in_reply_to_user_id</th>\n",
       "      <th>timestamp</th>\n",
       "      <th>source</th>\n",
       "      <th>text</th>\n",
       "      <th>retweeted_status_id</th>\n",
       "      <th>retweeted_status_user_id</th>\n",
       "      <th>retweeted_status_timestamp</th>\n",
       "      <th>expanded_urls</th>\n",
       "      <th>rating_numerator</th>\n",
       "      <th>rating_denominator</th>\n",
       "      <th>name</th>\n",
       "      <th>doggo</th>\n",
       "      <th>floofer</th>\n",
       "      <th>pupper</th>\n",
       "      <th>puppo</th>\n",
       "    </tr>\n",
       "  </thead>\n",
       "  <tbody>\n",
       "    <tr>\n",
       "      <th>0</th>\n",
       "      <td>892420643555336193</td>\n",
       "      <td>NaN</td>\n",
       "      <td>NaN</td>\n",
       "      <td>2017-08-01 16:23:56 +0000</td>\n",
       "      <td>&lt;a href=\"http://twitter.com/download/iphone\" r...</td>\n",
       "      <td>This is Phineas. He's a mystical boy. Only eve...</td>\n",
       "      <td>NaN</td>\n",
       "      <td>NaN</td>\n",
       "      <td>NaN</td>\n",
       "      <td>https://twitter.com/dog_rates/status/892420643...</td>\n",
       "      <td>13</td>\n",
       "      <td>10</td>\n",
       "      <td>Phineas</td>\n",
       "      <td>None</td>\n",
       "      <td>None</td>\n",
       "      <td>None</td>\n",
       "      <td>None</td>\n",
       "    </tr>\n",
       "    <tr>\n",
       "      <th>1</th>\n",
       "      <td>892177421306343426</td>\n",
       "      <td>NaN</td>\n",
       "      <td>NaN</td>\n",
       "      <td>2017-08-01 00:17:27 +0000</td>\n",
       "      <td>&lt;a href=\"http://twitter.com/download/iphone\" r...</td>\n",
       "      <td>This is Tilly. She's just checking pup on you....</td>\n",
       "      <td>NaN</td>\n",
       "      <td>NaN</td>\n",
       "      <td>NaN</td>\n",
       "      <td>https://twitter.com/dog_rates/status/892177421...</td>\n",
       "      <td>13</td>\n",
       "      <td>10</td>\n",
       "      <td>Tilly</td>\n",
       "      <td>None</td>\n",
       "      <td>None</td>\n",
       "      <td>None</td>\n",
       "      <td>None</td>\n",
       "    </tr>\n",
       "    <tr>\n",
       "      <th>2</th>\n",
       "      <td>891815181378084864</td>\n",
       "      <td>NaN</td>\n",
       "      <td>NaN</td>\n",
       "      <td>2017-07-31 00:18:03 +0000</td>\n",
       "      <td>&lt;a href=\"http://twitter.com/download/iphone\" r...</td>\n",
       "      <td>This is Archie. He is a rare Norwegian Pouncin...</td>\n",
       "      <td>NaN</td>\n",
       "      <td>NaN</td>\n",
       "      <td>NaN</td>\n",
       "      <td>https://twitter.com/dog_rates/status/891815181...</td>\n",
       "      <td>12</td>\n",
       "      <td>10</td>\n",
       "      <td>Archie</td>\n",
       "      <td>None</td>\n",
       "      <td>None</td>\n",
       "      <td>None</td>\n",
       "      <td>None</td>\n",
       "    </tr>\n",
       "    <tr>\n",
       "      <th>3</th>\n",
       "      <td>891689557279858688</td>\n",
       "      <td>NaN</td>\n",
       "      <td>NaN</td>\n",
       "      <td>2017-07-30 15:58:51 +0000</td>\n",
       "      <td>&lt;a href=\"http://twitter.com/download/iphone\" r...</td>\n",
       "      <td>This is Darla. She commenced a snooze mid meal...</td>\n",
       "      <td>NaN</td>\n",
       "      <td>NaN</td>\n",
       "      <td>NaN</td>\n",
       "      <td>https://twitter.com/dog_rates/status/891689557...</td>\n",
       "      <td>13</td>\n",
       "      <td>10</td>\n",
       "      <td>Darla</td>\n",
       "      <td>None</td>\n",
       "      <td>None</td>\n",
       "      <td>None</td>\n",
       "      <td>None</td>\n",
       "    </tr>\n",
       "    <tr>\n",
       "      <th>4</th>\n",
       "      <td>891327558926688256</td>\n",
       "      <td>NaN</td>\n",
       "      <td>NaN</td>\n",
       "      <td>2017-07-29 16:00:24 +0000</td>\n",
       "      <td>&lt;a href=\"http://twitter.com/download/iphone\" r...</td>\n",
       "      <td>This is Franklin. He would like you to stop ca...</td>\n",
       "      <td>NaN</td>\n",
       "      <td>NaN</td>\n",
       "      <td>NaN</td>\n",
       "      <td>https://twitter.com/dog_rates/status/891327558...</td>\n",
       "      <td>12</td>\n",
       "      <td>10</td>\n",
       "      <td>Franklin</td>\n",
       "      <td>None</td>\n",
       "      <td>None</td>\n",
       "      <td>None</td>\n",
       "      <td>None</td>\n",
       "    </tr>\n",
       "  </tbody>\n",
       "</table>\n",
       "</div>"
      ],
      "text/plain": [
       "             tweet_id  in_reply_to_status_id  in_reply_to_user_id  \\\n",
       "0  892420643555336193                    NaN                  NaN   \n",
       "1  892177421306343426                    NaN                  NaN   \n",
       "2  891815181378084864                    NaN                  NaN   \n",
       "3  891689557279858688                    NaN                  NaN   \n",
       "4  891327558926688256                    NaN                  NaN   \n",
       "\n",
       "                   timestamp  \\\n",
       "0  2017-08-01 16:23:56 +0000   \n",
       "1  2017-08-01 00:17:27 +0000   \n",
       "2  2017-07-31 00:18:03 +0000   \n",
       "3  2017-07-30 15:58:51 +0000   \n",
       "4  2017-07-29 16:00:24 +0000   \n",
       "\n",
       "                                              source  \\\n",
       "0  <a href=\"http://twitter.com/download/iphone\" r...   \n",
       "1  <a href=\"http://twitter.com/download/iphone\" r...   \n",
       "2  <a href=\"http://twitter.com/download/iphone\" r...   \n",
       "3  <a href=\"http://twitter.com/download/iphone\" r...   \n",
       "4  <a href=\"http://twitter.com/download/iphone\" r...   \n",
       "\n",
       "                                                text  retweeted_status_id  \\\n",
       "0  This is Phineas. He's a mystical boy. Only eve...                  NaN   \n",
       "1  This is Tilly. She's just checking pup on you....                  NaN   \n",
       "2  This is Archie. He is a rare Norwegian Pouncin...                  NaN   \n",
       "3  This is Darla. She commenced a snooze mid meal...                  NaN   \n",
       "4  This is Franklin. He would like you to stop ca...                  NaN   \n",
       "\n",
       "   retweeted_status_user_id retweeted_status_timestamp  \\\n",
       "0                       NaN                        NaN   \n",
       "1                       NaN                        NaN   \n",
       "2                       NaN                        NaN   \n",
       "3                       NaN                        NaN   \n",
       "4                       NaN                        NaN   \n",
       "\n",
       "                                       expanded_urls  rating_numerator  \\\n",
       "0  https://twitter.com/dog_rates/status/892420643...                13   \n",
       "1  https://twitter.com/dog_rates/status/892177421...                13   \n",
       "2  https://twitter.com/dog_rates/status/891815181...                12   \n",
       "3  https://twitter.com/dog_rates/status/891689557...                13   \n",
       "4  https://twitter.com/dog_rates/status/891327558...                12   \n",
       "\n",
       "   rating_denominator      name doggo floofer pupper puppo  \n",
       "0                  10   Phineas  None    None   None  None  \n",
       "1                  10     Tilly  None    None   None  None  \n",
       "2                  10    Archie  None    None   None  None  \n",
       "3                  10     Darla  None    None   None  None  \n",
       "4                  10  Franklin  None    None   None  None  "
      ]
     },
     "execution_count": 7,
     "metadata": {},
     "output_type": "execute_result"
    }
   ],
   "source": [
    "tweet_archive.head()"
   ]
  },
  {
   "cell_type": "code",
   "execution_count": 8,
   "metadata": {},
   "outputs": [
    {
     "name": "stdout",
     "output_type": "stream",
     "text": [
      "<class 'pandas.core.frame.DataFrame'>\n",
      "RangeIndex: 2356 entries, 0 to 2355\n",
      "Data columns (total 17 columns):\n",
      "tweet_id                      2356 non-null int64\n",
      "in_reply_to_status_id         78 non-null float64\n",
      "in_reply_to_user_id           78 non-null float64\n",
      "timestamp                     2356 non-null object\n",
      "source                        2356 non-null object\n",
      "text                          2356 non-null object\n",
      "retweeted_status_id           181 non-null float64\n",
      "retweeted_status_user_id      181 non-null float64\n",
      "retweeted_status_timestamp    181 non-null object\n",
      "expanded_urls                 2297 non-null object\n",
      "rating_numerator              2356 non-null int64\n",
      "rating_denominator            2356 non-null int64\n",
      "name                          2356 non-null object\n",
      "doggo                         2356 non-null object\n",
      "floofer                       2356 non-null object\n",
      "pupper                        2356 non-null object\n",
      "puppo                         2356 non-null object\n",
      "dtypes: float64(4), int64(3), object(10)\n",
      "memory usage: 313.0+ KB\n"
     ]
    }
   ],
   "source": [
    "tweet_archive.info()"
   ]
  },
  {
   "cell_type": "code",
   "execution_count": 9,
   "metadata": {},
   "outputs": [
    {
     "data": {
      "text/html": [
       "<div>\n",
       "<style scoped>\n",
       "    .dataframe tbody tr th:only-of-type {\n",
       "        vertical-align: middle;\n",
       "    }\n",
       "\n",
       "    .dataframe tbody tr th {\n",
       "        vertical-align: top;\n",
       "    }\n",
       "\n",
       "    .dataframe thead th {\n",
       "        text-align: right;\n",
       "    }\n",
       "</style>\n",
       "<table border=\"1\" class=\"dataframe\">\n",
       "  <thead>\n",
       "    <tr style=\"text-align: right;\">\n",
       "      <th></th>\n",
       "      <th>tweet_id</th>\n",
       "      <th>in_reply_to_status_id</th>\n",
       "      <th>in_reply_to_user_id</th>\n",
       "      <th>timestamp</th>\n",
       "      <th>source</th>\n",
       "      <th>text</th>\n",
       "      <th>retweeted_status_id</th>\n",
       "      <th>retweeted_status_user_id</th>\n",
       "      <th>retweeted_status_timestamp</th>\n",
       "      <th>expanded_urls</th>\n",
       "      <th>rating_numerator</th>\n",
       "      <th>rating_denominator</th>\n",
       "      <th>name</th>\n",
       "      <th>doggo</th>\n",
       "      <th>floofer</th>\n",
       "      <th>pupper</th>\n",
       "      <th>puppo</th>\n",
       "    </tr>\n",
       "  </thead>\n",
       "  <tbody>\n",
       "    <tr>\n",
       "      <th>1240</th>\n",
       "      <td>712085617388212225</td>\n",
       "      <td>NaN</td>\n",
       "      <td>NaN</td>\n",
       "      <td>2016-03-22 01:16:55 +0000</td>\n",
       "      <td>&lt;a href=\"http://twitter.com/download/iphone\" r...</td>\n",
       "      <td>Say hello to Olive and Ruby. They are best bud...</td>\n",
       "      <td>NaN</td>\n",
       "      <td>NaN</td>\n",
       "      <td>NaN</td>\n",
       "      <td>https://twitter.com/dog_rates/status/712085617...</td>\n",
       "      <td>11</td>\n",
       "      <td>10</td>\n",
       "      <td>Olive</td>\n",
       "      <td>None</td>\n",
       "      <td>None</td>\n",
       "      <td>None</td>\n",
       "      <td>None</td>\n",
       "    </tr>\n",
       "    <tr>\n",
       "      <th>1525</th>\n",
       "      <td>690400367696297985</td>\n",
       "      <td>NaN</td>\n",
       "      <td>NaN</td>\n",
       "      <td>2016-01-22 05:07:29 +0000</td>\n",
       "      <td>&lt;a href=\"http://twitter.com/download/iphone\" r...</td>\n",
       "      <td>This is Eriq. His friend just reminded him of ...</td>\n",
       "      <td>NaN</td>\n",
       "      <td>NaN</td>\n",
       "      <td>NaN</td>\n",
       "      <td>https://twitter.com/dog_rates/status/690400367...</td>\n",
       "      <td>10</td>\n",
       "      <td>10</td>\n",
       "      <td>Eriq</td>\n",
       "      <td>None</td>\n",
       "      <td>None</td>\n",
       "      <td>None</td>\n",
       "      <td>None</td>\n",
       "    </tr>\n",
       "    <tr>\n",
       "      <th>1223</th>\n",
       "      <td>714251586676113411</td>\n",
       "      <td>NaN</td>\n",
       "      <td>NaN</td>\n",
       "      <td>2016-03-28 00:43:43 +0000</td>\n",
       "      <td>&lt;a href=\"http://twitter.com/download/iphone\" r...</td>\n",
       "      <td>This is Thumas. He hates potted plants. 8/10 w...</td>\n",
       "      <td>NaN</td>\n",
       "      <td>NaN</td>\n",
       "      <td>NaN</td>\n",
       "      <td>https://twitter.com/dog_rates/status/714251586...</td>\n",
       "      <td>8</td>\n",
       "      <td>10</td>\n",
       "      <td>Thumas</td>\n",
       "      <td>None</td>\n",
       "      <td>None</td>\n",
       "      <td>None</td>\n",
       "      <td>None</td>\n",
       "    </tr>\n",
       "    <tr>\n",
       "      <th>932</th>\n",
       "      <td>754011816964026368</td>\n",
       "      <td>NaN</td>\n",
       "      <td>NaN</td>\n",
       "      <td>2016-07-15 17:56:40 +0000</td>\n",
       "      <td>&lt;a href=\"http://twitter.com/download/iphone\" r...</td>\n",
       "      <td>This is Charlie. He pouts until he gets to go ...</td>\n",
       "      <td>NaN</td>\n",
       "      <td>NaN</td>\n",
       "      <td>NaN</td>\n",
       "      <td>https://twitter.com/dog_rates/status/754011816...</td>\n",
       "      <td>12</td>\n",
       "      <td>10</td>\n",
       "      <td>Charlie</td>\n",
       "      <td>None</td>\n",
       "      <td>None</td>\n",
       "      <td>None</td>\n",
       "      <td>None</td>\n",
       "    </tr>\n",
       "    <tr>\n",
       "      <th>1767</th>\n",
       "      <td>678396796259975168</td>\n",
       "      <td>NaN</td>\n",
       "      <td>NaN</td>\n",
       "      <td>2015-12-20 02:09:34 +0000</td>\n",
       "      <td>&lt;a href=\"http://twitter.com/download/iphone\" r...</td>\n",
       "      <td>These little fellas have opposite facial expre...</td>\n",
       "      <td>NaN</td>\n",
       "      <td>NaN</td>\n",
       "      <td>NaN</td>\n",
       "      <td>https://twitter.com/dog_rates/status/678396796...</td>\n",
       "      <td>12</td>\n",
       "      <td>10</td>\n",
       "      <td>None</td>\n",
       "      <td>None</td>\n",
       "      <td>None</td>\n",
       "      <td>None</td>\n",
       "      <td>None</td>\n",
       "    </tr>\n",
       "  </tbody>\n",
       "</table>\n",
       "</div>"
      ],
      "text/plain": [
       "                tweet_id  in_reply_to_status_id  in_reply_to_user_id  \\\n",
       "1240  712085617388212225                    NaN                  NaN   \n",
       "1525  690400367696297985                    NaN                  NaN   \n",
       "1223  714251586676113411                    NaN                  NaN   \n",
       "932   754011816964026368                    NaN                  NaN   \n",
       "1767  678396796259975168                    NaN                  NaN   \n",
       "\n",
       "                      timestamp  \\\n",
       "1240  2016-03-22 01:16:55 +0000   \n",
       "1525  2016-01-22 05:07:29 +0000   \n",
       "1223  2016-03-28 00:43:43 +0000   \n",
       "932   2016-07-15 17:56:40 +0000   \n",
       "1767  2015-12-20 02:09:34 +0000   \n",
       "\n",
       "                                                 source  \\\n",
       "1240  <a href=\"http://twitter.com/download/iphone\" r...   \n",
       "1525  <a href=\"http://twitter.com/download/iphone\" r...   \n",
       "1223  <a href=\"http://twitter.com/download/iphone\" r...   \n",
       "932   <a href=\"http://twitter.com/download/iphone\" r...   \n",
       "1767  <a href=\"http://twitter.com/download/iphone\" r...   \n",
       "\n",
       "                                                   text  retweeted_status_id  \\\n",
       "1240  Say hello to Olive and Ruby. They are best bud...                  NaN   \n",
       "1525  This is Eriq. His friend just reminded him of ...                  NaN   \n",
       "1223  This is Thumas. He hates potted plants. 8/10 w...                  NaN   \n",
       "932   This is Charlie. He pouts until he gets to go ...                  NaN   \n",
       "1767  These little fellas have opposite facial expre...                  NaN   \n",
       "\n",
       "      retweeted_status_user_id retweeted_status_timestamp  \\\n",
       "1240                       NaN                        NaN   \n",
       "1525                       NaN                        NaN   \n",
       "1223                       NaN                        NaN   \n",
       "932                        NaN                        NaN   \n",
       "1767                       NaN                        NaN   \n",
       "\n",
       "                                          expanded_urls  rating_numerator  \\\n",
       "1240  https://twitter.com/dog_rates/status/712085617...                11   \n",
       "1525  https://twitter.com/dog_rates/status/690400367...                10   \n",
       "1223  https://twitter.com/dog_rates/status/714251586...                 8   \n",
       "932   https://twitter.com/dog_rates/status/754011816...                12   \n",
       "1767  https://twitter.com/dog_rates/status/678396796...                12   \n",
       "\n",
       "      rating_denominator     name doggo floofer pupper puppo  \n",
       "1240                  10    Olive  None    None   None  None  \n",
       "1525                  10     Eriq  None    None   None  None  \n",
       "1223                  10   Thumas  None    None   None  None  \n",
       "932                   10  Charlie  None    None   None  None  \n",
       "1767                  10     None  None    None   None  None  "
      ]
     },
     "execution_count": 9,
     "metadata": {},
     "output_type": "execute_result"
    }
   ],
   "source": [
    "tweet_archive.sample(5)"
   ]
  },
  {
   "cell_type": "code",
   "execution_count": 10,
   "metadata": {},
   "outputs": [
    {
     "data": {
      "text/plain": [
       "12      558\n",
       "11      464\n",
       "10      461\n",
       "13      351\n",
       "9       158\n",
       "8       102\n",
       "7        55\n",
       "14       54\n",
       "5        37\n",
       "6        32\n",
       "3        19\n",
       "4        17\n",
       "1         9\n",
       "2         9\n",
       "420       2\n",
       "0         2\n",
       "15        2\n",
       "75        2\n",
       "80        1\n",
       "20        1\n",
       "24        1\n",
       "26        1\n",
       "44        1\n",
       "50        1\n",
       "60        1\n",
       "165       1\n",
       "84        1\n",
       "88        1\n",
       "144       1\n",
       "182       1\n",
       "143       1\n",
       "666       1\n",
       "960       1\n",
       "1776      1\n",
       "17        1\n",
       "27        1\n",
       "45        1\n",
       "99        1\n",
       "121       1\n",
       "204       1\n",
       "Name: rating_numerator, dtype: int64"
      ]
     },
     "execution_count": 10,
     "metadata": {},
     "output_type": "execute_result"
    }
   ],
   "source": [
    "tweet_archive.rating_numerator.value_counts()"
   ]
  },
  {
   "cell_type": "code",
   "execution_count": 11,
   "metadata": {},
   "outputs": [
    {
     "name": "stdout",
     "output_type": "stream",
     "text": [
      "Empty DataFrame\n",
      "Columns: [tweet_id, in_reply_to_status_id, in_reply_to_user_id, timestamp, source, text, retweeted_status_id, retweeted_status_user_id, retweeted_status_timestamp, expanded_urls, rating_numerator, rating_denominator, name, doggo, floofer, pupper, puppo]\n",
      "Index: []\n"
     ]
    }
   ],
   "source": [
    "print(tweet_archive[tweet_archive.tweet_id.isnull()])"
   ]
  },
  {
   "cell_type": "code",
   "execution_count": 12,
   "metadata": {},
   "outputs": [
    {
     "name": "stdout",
     "output_type": "stream",
     "text": [
      "Empty DataFrame\n",
      "Columns: [tweet_id, in_reply_to_status_id, in_reply_to_user_id, timestamp, source, text, retweeted_status_id, retweeted_status_user_id, retweeted_status_timestamp, expanded_urls, rating_numerator, rating_denominator, name, doggo, floofer, pupper, puppo]\n",
      "Index: []\n"
     ]
    }
   ],
   "source": [
    "print(tweet_archive[tweet_archive.tweet_id.duplicated()])"
   ]
  },
  {
   "cell_type": "code",
   "execution_count": 13,
   "metadata": {},
   "outputs": [
    {
     "name": "stdout",
     "output_type": "stream",
     "text": [
      "                tweet_id  in_reply_to_status_id  in_reply_to_user_id  \\\n",
      "315   835152434251116546                    NaN                  NaN   \n",
      "1016  746906459439529985           7.468859e+17         4.196984e+09   \n",
      "\n",
      "                      timestamp  \\\n",
      "315   2017-02-24 15:40:31 +0000   \n",
      "1016  2016-06-26 03:22:31 +0000   \n",
      "\n",
      "                                                 source  \\\n",
      "315   <a href=\"http://twitter.com/download/iphone\" r...   \n",
      "1016  <a href=\"http://twitter.com/download/iphone\" r...   \n",
      "\n",
      "                                                   text  retweeted_status_id  \\\n",
      "315   When you're so blinded by your systematic plag...                  NaN   \n",
      "1016  PUPDATE: can't see any. Even if I could, I cou...                  NaN   \n",
      "\n",
      "      retweeted_status_user_id retweeted_status_timestamp  \\\n",
      "315                        NaN                        NaN   \n",
      "1016                       NaN                        NaN   \n",
      "\n",
      "                                          expanded_urls  rating_numerator  \\\n",
      "315   https://twitter.com/dog_rates/status/835152434...                 0   \n",
      "1016  https://twitter.com/dog_rates/status/746906459...                 0   \n",
      "\n",
      "      rating_denominator  name doggo floofer pupper puppo  \n",
      "315                   10  None  None    None   None  None  \n",
      "1016                  10  None  None    None   None  None  \n"
     ]
    }
   ],
   "source": [
    "print(tweet_archive[tweet_archive.rating_numerator == 0])"
   ]
  },
  {
   "cell_type": "code",
   "execution_count": 14,
   "metadata": {},
   "outputs": [
    {
     "name": "stdout",
     "output_type": "stream",
     "text": [
      "None         745\n",
      "a             55\n",
      "Charlie       12\n",
      "Lucy          11\n",
      "Oliver        11\n",
      "Cooper        11\n",
      "Penny         10\n",
      "Lola          10\n",
      "Tucker        10\n",
      "Winston        9\n",
      "Bo             9\n",
      "Sadie          8\n",
      "the            8\n",
      "Bailey         7\n",
      "Buddy          7\n",
      "Toby           7\n",
      "an             7\n",
      "Daisy          7\n",
      "Dave           6\n",
      "Rusty          6\n",
      "Koda           6\n",
      "Leo            6\n",
      "Bella          6\n",
      "Milo           6\n",
      "Stanley        6\n",
      "Oscar          6\n",
      "Jack           6\n",
      "Jax            6\n",
      "Scout          6\n",
      "Phil           5\n",
      "            ... \n",
      "Oreo           1\n",
      "Batdog         1\n",
      "Genevieve      1\n",
      "Gòrdón         1\n",
      "Dook           1\n",
      "Juckson        1\n",
      "Kathmandu      1\n",
      "Shikha         1\n",
      "Tripp          1\n",
      "Rumpole        1\n",
      "Taz            1\n",
      "Jonah          1\n",
      "Randall        1\n",
      "Tango          1\n",
      "his            1\n",
      "Tom            1\n",
      "Hamrick        1\n",
      "Acro           1\n",
      "Lillie         1\n",
      "Lupe           1\n",
      "Aubie          1\n",
      "Caryl          1\n",
      "Tycho          1\n",
      "Ralphé         1\n",
      "Bradlay        1\n",
      "Aja            1\n",
      "Sparky         1\n",
      "Bonaparte      1\n",
      "Rufio          1\n",
      "Willem         1\n",
      "Name: name, Length: 957, dtype: int64\n"
     ]
    }
   ],
   "source": [
    "print(tweet_archive.name.value_counts())"
   ]
  },
  {
   "cell_type": "markdown",
   "metadata": {},
   "source": [
    "Now, we will assess data from the doggo_df data"
   ]
  },
  {
   "cell_type": "code",
   "execution_count": 15,
   "metadata": {},
   "outputs": [
    {
     "name": "stdout",
     "output_type": "stream",
     "text": [
      "<class 'pandas.core.frame.DataFrame'>\n",
      "RangeIndex: 2075 entries, 0 to 2074\n",
      "Data columns (total 12 columns):\n",
      "tweet_id    2075 non-null int64\n",
      "jpg_url     2075 non-null object\n",
      "img_num     2075 non-null int64\n",
      "p1          2075 non-null object\n",
      "p1_conf     2075 non-null float64\n",
      "p1_dog      2075 non-null bool\n",
      "p2          2075 non-null object\n",
      "p2_conf     2075 non-null float64\n",
      "p2_dog      2075 non-null bool\n",
      "p3          2075 non-null object\n",
      "p3_conf     2075 non-null float64\n",
      "p3_dog      2075 non-null bool\n",
      "dtypes: bool(3), float64(3), int64(2), object(4)\n",
      "memory usage: 152.1+ KB\n"
     ]
    }
   ],
   "source": [
    "doggo_df.info()"
   ]
  },
  {
   "cell_type": "code",
   "execution_count": 16,
   "metadata": {},
   "outputs": [
    {
     "data": {
      "text/html": [
       "<div>\n",
       "<style scoped>\n",
       "    .dataframe tbody tr th:only-of-type {\n",
       "        vertical-align: middle;\n",
       "    }\n",
       "\n",
       "    .dataframe tbody tr th {\n",
       "        vertical-align: top;\n",
       "    }\n",
       "\n",
       "    .dataframe thead th {\n",
       "        text-align: right;\n",
       "    }\n",
       "</style>\n",
       "<table border=\"1\" class=\"dataframe\">\n",
       "  <thead>\n",
       "    <tr style=\"text-align: right;\">\n",
       "      <th></th>\n",
       "      <th>tweet_id</th>\n",
       "      <th>jpg_url</th>\n",
       "      <th>img_num</th>\n",
       "      <th>p1</th>\n",
       "      <th>p1_conf</th>\n",
       "      <th>p1_dog</th>\n",
       "      <th>p2</th>\n",
       "      <th>p2_conf</th>\n",
       "      <th>p2_dog</th>\n",
       "      <th>p3</th>\n",
       "      <th>p3_conf</th>\n",
       "      <th>p3_dog</th>\n",
       "    </tr>\n",
       "  </thead>\n",
       "  <tbody>\n",
       "    <tr>\n",
       "      <th>0</th>\n",
       "      <td>666020888022790149</td>\n",
       "      <td>https://pbs.twimg.com/media/CT4udn0WwAA0aMy.jpg</td>\n",
       "      <td>1</td>\n",
       "      <td>Welsh_springer_spaniel</td>\n",
       "      <td>0.465074</td>\n",
       "      <td>True</td>\n",
       "      <td>collie</td>\n",
       "      <td>0.156665</td>\n",
       "      <td>True</td>\n",
       "      <td>Shetland_sheepdog</td>\n",
       "      <td>0.061428</td>\n",
       "      <td>True</td>\n",
       "    </tr>\n",
       "    <tr>\n",
       "      <th>1</th>\n",
       "      <td>666029285002620928</td>\n",
       "      <td>https://pbs.twimg.com/media/CT42GRgUYAA5iDo.jpg</td>\n",
       "      <td>1</td>\n",
       "      <td>redbone</td>\n",
       "      <td>0.506826</td>\n",
       "      <td>True</td>\n",
       "      <td>miniature_pinscher</td>\n",
       "      <td>0.074192</td>\n",
       "      <td>True</td>\n",
       "      <td>Rhodesian_ridgeback</td>\n",
       "      <td>0.072010</td>\n",
       "      <td>True</td>\n",
       "    </tr>\n",
       "    <tr>\n",
       "      <th>2</th>\n",
       "      <td>666033412701032449</td>\n",
       "      <td>https://pbs.twimg.com/media/CT4521TWwAEvMyu.jpg</td>\n",
       "      <td>1</td>\n",
       "      <td>German_shepherd</td>\n",
       "      <td>0.596461</td>\n",
       "      <td>True</td>\n",
       "      <td>malinois</td>\n",
       "      <td>0.138584</td>\n",
       "      <td>True</td>\n",
       "      <td>bloodhound</td>\n",
       "      <td>0.116197</td>\n",
       "      <td>True</td>\n",
       "    </tr>\n",
       "    <tr>\n",
       "      <th>3</th>\n",
       "      <td>666044226329800704</td>\n",
       "      <td>https://pbs.twimg.com/media/CT5Dr8HUEAA-lEu.jpg</td>\n",
       "      <td>1</td>\n",
       "      <td>Rhodesian_ridgeback</td>\n",
       "      <td>0.408143</td>\n",
       "      <td>True</td>\n",
       "      <td>redbone</td>\n",
       "      <td>0.360687</td>\n",
       "      <td>True</td>\n",
       "      <td>miniature_pinscher</td>\n",
       "      <td>0.222752</td>\n",
       "      <td>True</td>\n",
       "    </tr>\n",
       "    <tr>\n",
       "      <th>4</th>\n",
       "      <td>666049248165822465</td>\n",
       "      <td>https://pbs.twimg.com/media/CT5IQmsXIAAKY4A.jpg</td>\n",
       "      <td>1</td>\n",
       "      <td>miniature_pinscher</td>\n",
       "      <td>0.560311</td>\n",
       "      <td>True</td>\n",
       "      <td>Rottweiler</td>\n",
       "      <td>0.243682</td>\n",
       "      <td>True</td>\n",
       "      <td>Doberman</td>\n",
       "      <td>0.154629</td>\n",
       "      <td>True</td>\n",
       "    </tr>\n",
       "  </tbody>\n",
       "</table>\n",
       "</div>"
      ],
      "text/plain": [
       "             tweet_id                                          jpg_url  \\\n",
       "0  666020888022790149  https://pbs.twimg.com/media/CT4udn0WwAA0aMy.jpg   \n",
       "1  666029285002620928  https://pbs.twimg.com/media/CT42GRgUYAA5iDo.jpg   \n",
       "2  666033412701032449  https://pbs.twimg.com/media/CT4521TWwAEvMyu.jpg   \n",
       "3  666044226329800704  https://pbs.twimg.com/media/CT5Dr8HUEAA-lEu.jpg   \n",
       "4  666049248165822465  https://pbs.twimg.com/media/CT5IQmsXIAAKY4A.jpg   \n",
       "\n",
       "   img_num                      p1   p1_conf  p1_dog                  p2  \\\n",
       "0        1  Welsh_springer_spaniel  0.465074    True              collie   \n",
       "1        1                 redbone  0.506826    True  miniature_pinscher   \n",
       "2        1         German_shepherd  0.596461    True            malinois   \n",
       "3        1     Rhodesian_ridgeback  0.408143    True             redbone   \n",
       "4        1      miniature_pinscher  0.560311    True          Rottweiler   \n",
       "\n",
       "    p2_conf  p2_dog                   p3   p3_conf  p3_dog  \n",
       "0  0.156665    True    Shetland_sheepdog  0.061428    True  \n",
       "1  0.074192    True  Rhodesian_ridgeback  0.072010    True  \n",
       "2  0.138584    True           bloodhound  0.116197    True  \n",
       "3  0.360687    True   miniature_pinscher  0.222752    True  \n",
       "4  0.243682    True             Doberman  0.154629    True  "
      ]
     },
     "execution_count": 16,
     "metadata": {},
     "output_type": "execute_result"
    }
   ],
   "source": [
    "doggo_df.head()"
   ]
  },
  {
   "cell_type": "code",
   "execution_count": 17,
   "metadata": {},
   "outputs": [
    {
     "data": {
      "text/html": [
       "<div>\n",
       "<style scoped>\n",
       "    .dataframe tbody tr th:only-of-type {\n",
       "        vertical-align: middle;\n",
       "    }\n",
       "\n",
       "    .dataframe tbody tr th {\n",
       "        vertical-align: top;\n",
       "    }\n",
       "\n",
       "    .dataframe thead th {\n",
       "        text-align: right;\n",
       "    }\n",
       "</style>\n",
       "<table border=\"1\" class=\"dataframe\">\n",
       "  <thead>\n",
       "    <tr style=\"text-align: right;\">\n",
       "      <th></th>\n",
       "      <th>tweet_id</th>\n",
       "      <th>img_num</th>\n",
       "      <th>p1_conf</th>\n",
       "      <th>p2_conf</th>\n",
       "      <th>p3_conf</th>\n",
       "    </tr>\n",
       "  </thead>\n",
       "  <tbody>\n",
       "    <tr>\n",
       "      <th>count</th>\n",
       "      <td>2.075000e+03</td>\n",
       "      <td>2075.000000</td>\n",
       "      <td>2075.000000</td>\n",
       "      <td>2.075000e+03</td>\n",
       "      <td>2.075000e+03</td>\n",
       "    </tr>\n",
       "    <tr>\n",
       "      <th>mean</th>\n",
       "      <td>7.384514e+17</td>\n",
       "      <td>1.203855</td>\n",
       "      <td>0.594548</td>\n",
       "      <td>1.345886e-01</td>\n",
       "      <td>6.032417e-02</td>\n",
       "    </tr>\n",
       "    <tr>\n",
       "      <th>std</th>\n",
       "      <td>6.785203e+16</td>\n",
       "      <td>0.561875</td>\n",
       "      <td>0.271174</td>\n",
       "      <td>1.006657e-01</td>\n",
       "      <td>5.090593e-02</td>\n",
       "    </tr>\n",
       "    <tr>\n",
       "      <th>min</th>\n",
       "      <td>6.660209e+17</td>\n",
       "      <td>1.000000</td>\n",
       "      <td>0.044333</td>\n",
       "      <td>1.011300e-08</td>\n",
       "      <td>1.740170e-10</td>\n",
       "    </tr>\n",
       "    <tr>\n",
       "      <th>25%</th>\n",
       "      <td>6.764835e+17</td>\n",
       "      <td>1.000000</td>\n",
       "      <td>0.364412</td>\n",
       "      <td>5.388625e-02</td>\n",
       "      <td>1.622240e-02</td>\n",
       "    </tr>\n",
       "    <tr>\n",
       "      <th>50%</th>\n",
       "      <td>7.119988e+17</td>\n",
       "      <td>1.000000</td>\n",
       "      <td>0.588230</td>\n",
       "      <td>1.181810e-01</td>\n",
       "      <td>4.944380e-02</td>\n",
       "    </tr>\n",
       "    <tr>\n",
       "      <th>75%</th>\n",
       "      <td>7.932034e+17</td>\n",
       "      <td>1.000000</td>\n",
       "      <td>0.843855</td>\n",
       "      <td>1.955655e-01</td>\n",
       "      <td>9.180755e-02</td>\n",
       "    </tr>\n",
       "    <tr>\n",
       "      <th>max</th>\n",
       "      <td>8.924206e+17</td>\n",
       "      <td>4.000000</td>\n",
       "      <td>1.000000</td>\n",
       "      <td>4.880140e-01</td>\n",
       "      <td>2.734190e-01</td>\n",
       "    </tr>\n",
       "  </tbody>\n",
       "</table>\n",
       "</div>"
      ],
      "text/plain": [
       "           tweet_id      img_num      p1_conf       p2_conf       p3_conf\n",
       "count  2.075000e+03  2075.000000  2075.000000  2.075000e+03  2.075000e+03\n",
       "mean   7.384514e+17     1.203855     0.594548  1.345886e-01  6.032417e-02\n",
       "std    6.785203e+16     0.561875     0.271174  1.006657e-01  5.090593e-02\n",
       "min    6.660209e+17     1.000000     0.044333  1.011300e-08  1.740170e-10\n",
       "25%    6.764835e+17     1.000000     0.364412  5.388625e-02  1.622240e-02\n",
       "50%    7.119988e+17     1.000000     0.588230  1.181810e-01  4.944380e-02\n",
       "75%    7.932034e+17     1.000000     0.843855  1.955655e-01  9.180755e-02\n",
       "max    8.924206e+17     4.000000     1.000000  4.880140e-01  2.734190e-01"
      ]
     },
     "execution_count": 17,
     "metadata": {},
     "output_type": "execute_result"
    }
   ],
   "source": [
    "doggo_df.describe()"
   ]
  },
  {
   "cell_type": "markdown",
   "metadata": {},
   "source": [
    "Now, we will assess data from doggo_data"
   ]
  },
  {
   "cell_type": "code",
   "execution_count": 18,
   "metadata": {},
   "outputs": [
    {
     "name": "stdout",
     "output_type": "stream",
     "text": [
      "<class 'pandas.core.frame.DataFrame'>\n",
      "RangeIndex: 2339 entries, 0 to 2338\n",
      "Data columns (total 3 columns):\n",
      "tweet_id          2339 non-null int64\n",
      "favorite_count    2339 non-null int64\n",
      "retweet_count     2339 non-null int64\n",
      "dtypes: int64(3)\n",
      "memory usage: 54.9 KB\n"
     ]
    }
   ],
   "source": [
    "doggo_data.info()"
   ]
  },
  {
   "cell_type": "code",
   "execution_count": 19,
   "metadata": {},
   "outputs": [
    {
     "data": {
      "text/html": [
       "<div>\n",
       "<style scoped>\n",
       "    .dataframe tbody tr th:only-of-type {\n",
       "        vertical-align: middle;\n",
       "    }\n",
       "\n",
       "    .dataframe tbody tr th {\n",
       "        vertical-align: top;\n",
       "    }\n",
       "\n",
       "    .dataframe thead th {\n",
       "        text-align: right;\n",
       "    }\n",
       "</style>\n",
       "<table border=\"1\" class=\"dataframe\">\n",
       "  <thead>\n",
       "    <tr style=\"text-align: right;\">\n",
       "      <th></th>\n",
       "      <th>tweet_id</th>\n",
       "      <th>favorite_count</th>\n",
       "      <th>retweet_count</th>\n",
       "    </tr>\n",
       "  </thead>\n",
       "  <tbody>\n",
       "    <tr>\n",
       "      <th>0</th>\n",
       "      <td>892420643555336193</td>\n",
       "      <td>37728</td>\n",
       "      <td>8220</td>\n",
       "    </tr>\n",
       "    <tr>\n",
       "      <th>1</th>\n",
       "      <td>892177421306343426</td>\n",
       "      <td>32390</td>\n",
       "      <td>6077</td>\n",
       "    </tr>\n",
       "    <tr>\n",
       "      <th>2</th>\n",
       "      <td>891815181378084864</td>\n",
       "      <td>24394</td>\n",
       "      <td>4021</td>\n",
       "    </tr>\n",
       "    <tr>\n",
       "      <th>3</th>\n",
       "      <td>891689557279858688</td>\n",
       "      <td>41042</td>\n",
       "      <td>8375</td>\n",
       "    </tr>\n",
       "    <tr>\n",
       "      <th>4</th>\n",
       "      <td>891327558926688256</td>\n",
       "      <td>39233</td>\n",
       "      <td>9080</td>\n",
       "    </tr>\n",
       "  </tbody>\n",
       "</table>\n",
       "</div>"
      ],
      "text/plain": [
       "             tweet_id  favorite_count  retweet_count\n",
       "0  892420643555336193           37728           8220\n",
       "1  892177421306343426           32390           6077\n",
       "2  891815181378084864           24394           4021\n",
       "3  891689557279858688           41042           8375\n",
       "4  891327558926688256           39233           9080"
      ]
     },
     "execution_count": 19,
     "metadata": {},
     "output_type": "execute_result"
    }
   ],
   "source": [
    "doggo_data.head()"
   ]
  },
  {
   "cell_type": "code",
   "execution_count": 20,
   "metadata": {},
   "outputs": [
    {
     "data": {
      "text/html": [
       "<div>\n",
       "<style scoped>\n",
       "    .dataframe tbody tr th:only-of-type {\n",
       "        vertical-align: middle;\n",
       "    }\n",
       "\n",
       "    .dataframe tbody tr th {\n",
       "        vertical-align: top;\n",
       "    }\n",
       "\n",
       "    .dataframe thead th {\n",
       "        text-align: right;\n",
       "    }\n",
       "</style>\n",
       "<table border=\"1\" class=\"dataframe\">\n",
       "  <thead>\n",
       "    <tr style=\"text-align: right;\">\n",
       "      <th></th>\n",
       "      <th>tweet_id</th>\n",
       "      <th>favorite_count</th>\n",
       "      <th>retweet_count</th>\n",
       "    </tr>\n",
       "  </thead>\n",
       "  <tbody>\n",
       "    <tr>\n",
       "      <th>count</th>\n",
       "      <td>2.339000e+03</td>\n",
       "      <td>2339.000000</td>\n",
       "      <td>2339.000000</td>\n",
       "    </tr>\n",
       "    <tr>\n",
       "      <th>mean</th>\n",
       "      <td>7.421620e+17</td>\n",
       "      <td>7885.966225</td>\n",
       "      <td>2898.444207</td>\n",
       "    </tr>\n",
       "    <tr>\n",
       "      <th>std</th>\n",
       "      <td>6.828729e+16</td>\n",
       "      <td>12221.413519</td>\n",
       "      <td>4887.599904</td>\n",
       "    </tr>\n",
       "    <tr>\n",
       "      <th>min</th>\n",
       "      <td>6.660209e+17</td>\n",
       "      <td>0.000000</td>\n",
       "      <td>1.000000</td>\n",
       "    </tr>\n",
       "    <tr>\n",
       "      <th>25%</th>\n",
       "      <td>6.783378e+17</td>\n",
       "      <td>1366.000000</td>\n",
       "      <td>582.500000</td>\n",
       "    </tr>\n",
       "    <tr>\n",
       "      <th>50%</th>\n",
       "      <td>7.186133e+17</td>\n",
       "      <td>3432.000000</td>\n",
       "      <td>1353.000000</td>\n",
       "    </tr>\n",
       "    <tr>\n",
       "      <th>75%</th>\n",
       "      <td>7.986907e+17</td>\n",
       "      <td>9656.000000</td>\n",
       "      <td>3378.500000</td>\n",
       "    </tr>\n",
       "    <tr>\n",
       "      <th>max</th>\n",
       "      <td>8.924206e+17</td>\n",
       "      <td>162777.000000</td>\n",
       "      <td>82849.000000</td>\n",
       "    </tr>\n",
       "  </tbody>\n",
       "</table>\n",
       "</div>"
      ],
      "text/plain": [
       "           tweet_id  favorite_count  retweet_count\n",
       "count  2.339000e+03     2339.000000    2339.000000\n",
       "mean   7.421620e+17     7885.966225    2898.444207\n",
       "std    6.828729e+16    12221.413519    4887.599904\n",
       "min    6.660209e+17        0.000000       1.000000\n",
       "25%    6.783378e+17     1366.000000     582.500000\n",
       "50%    7.186133e+17     3432.000000    1353.000000\n",
       "75%    7.986907e+17     9656.000000    3378.500000\n",
       "max    8.924206e+17   162777.000000   82849.000000"
      ]
     },
     "execution_count": 20,
     "metadata": {},
     "output_type": "execute_result"
    }
   ],
   "source": [
    "doggo_data.describe()"
   ]
  },
  {
   "cell_type": "markdown",
   "metadata": {},
   "source": [
    "## Issues with the Data\n",
    "\n",
    "### Data Tidiness\n",
    "\n",
    "1. The columns doggo, pupper, puppo, and floofer are variations of an entity so they all can be merged.\n",
    "2. For a better result, all the three dataframes should become a single dataframe.\n",
    "\n",
    "\n",
    "### Data Quality\n",
    "\n",
    "1. In many dataframes, there's issue of wrong datatype.\n",
    "    In tweet_archive, we have issues with tweet_id, in_reply_to_status_id, in_reply_to_user_id, retweeted_status_id, retweeted_status_user_id, and timestamp.    \n",
    "    In doggo_df the issue is with tweet_id.\n",
    "    In doggo_data the isssue is with tweet_id.\n",
    "    \n",
    "2. There are issues with dog's name. There are words like a, an the. These are invalid names and have to be removed.\n",
    "3. Missing image data of breed predictions\n",
    "4. We don't need reweets as they don't have original ratings. So, will remove them.\n",
    "5. There are a few tweets that have been deleted.\n",
    "6. Drop rows that do not have a jpg_url column as tweets without a jpg_url do not contain images.\n",
    "\n",
    "\n",
    "\n",
    "\n",
    "\n",
    "# Data Cleaning\n",
    "\n",
    "\n"
   ]
  },
  {
   "cell_type": "markdown",
   "metadata": {},
   "source": [
    "First, we need to create copies of the dataframes so that we don't spoil the data."
   ]
  },
  {
   "cell_type": "code",
   "execution_count": 29,
   "metadata": {},
   "outputs": [],
   "source": [
    "tweet_archive_c = tweet_archive.copy()\n",
    "doggo_df_c = doggo_df.copy()\n",
    "doggo_data_c = doggo_data.copy()"
   ]
  },
  {
   "cell_type": "markdown",
   "metadata": {},
   "source": [
    "#### Cleaning for tidiness\n"
   ]
  },
  {
   "cell_type": "markdown",
   "metadata": {},
   "source": [
    "\n",
    "1. Combine the doggo, pupper, puppo, and floofer columns into one column using melt."
   ]
  },
  {
   "cell_type": "code",
   "execution_count": 30,
   "metadata": {},
   "outputs": [],
   "source": [
    "#TO create list of originals IDs.\n",
    "tweet_ids = tweet_archive_c.tweet_id.tolist()\n",
    "\n",
    "#Melting the columns\n",
    "tweet_archive_c =pd.melt(tweet_archive_c, id_vars = ['tweet_id', 'in_reply_to_status_id', 'in_reply_to_user_id', 'retweeted_status_id',\n",
    "                                       'retweeted_status_user_id', 'timestamp', 'source', 'text', 'retweeted_status_timestamp',\n",
    "                                       'expanded_urls', 'rating_numerator', 'rating_denominator', 'name'], \n",
    "        var_name = 'type_toberemoved', value_name = 'type')\n",
    "tweet_archive_c = tweet_archive_c.drop('type_toberemoved', axis =1)\n"
   ]
  },
  {
   "cell_type": "code",
   "execution_count": 31,
   "metadata": {
    "scrolled": true
   },
   "outputs": [
    {
     "name": "stdout",
     "output_type": "stream",
     "text": [
      "749075273010798592    4\n",
      "747219827526344708    4\n",
      "676975532580409345    4\n",
      "682393905736888321    4\n",
      "832032802820481025    4\n",
      "689993469801164801    4\n",
      "699088579889332224    4\n",
      "782598640137187329    4\n",
      "748346686624440324    4\n",
      "700847567345688576    4\n",
      "669216679721873412    4\n",
      "827933404142436356    4\n",
      "796759840936919040    4\n",
      "793241302385262592    4\n",
      "805520635690676224    4\n",
      "671362598324076544    4\n",
      "791780927877898241    4\n",
      "695816827381944320    4\n",
      "754011816964026368    4\n",
      "683449695444799489    4\n",
      "715696743237730304    4\n",
      "685315239903100929    4\n",
      "842765311967449089    4\n",
      "743510151680958465    4\n",
      "738883359779196928    4\n",
      "780858289093574656    4\n",
      "699775878809702401    4\n",
      "741099773336379392    4\n",
      "686035780142297088    4\n",
      "676237365392908289    4\n",
      "                     ..\n",
      "689143371370250240    4\n",
      "687841446767013888    4\n",
      "730924654643314689    4\n",
      "882762694511734784    4\n",
      "848212111729840128    4\n",
      "670811965569282048    4\n",
      "741743634094141440    4\n",
      "892420643555336193    4\n",
      "855459453768019968    4\n",
      "670303360680108032    4\n",
      "829141528400556032    4\n",
      "747461612269887489    4\n",
      "739844404073074688    4\n",
      "767500508068192258    4\n",
      "670778058496974848    4\n",
      "872261713294495745    4\n",
      "870308999962521604    4\n",
      "825026590719483904    4\n",
      "671763349865160704    4\n",
      "673350198937153538    4\n",
      "711732680602345472    4\n",
      "693647888581312512    4\n",
      "676582956622721024    4\n",
      "841439858740625411    4\n",
      "798673117451325440    4\n",
      "798585098161549313    4\n",
      "710588934686908417    4\n",
      "676470639084101634    4\n",
      "674436901579923456    4\n",
      "732732193018155009    4\n",
      "Name: tweet_id, Length: 2356, dtype: int64\n",
      "9424\n"
     ]
    }
   ],
   "source": [
    "print(tweet_archive_c.tweet_id.value_counts())\n",
    "print(len(tweet_archive_c))"
   ]
  },
  {
   "cell_type": "code",
   "execution_count": 32,
   "metadata": {},
   "outputs": [],
   "source": [
    "for idx, twtid in enumerate(tweet_ids):\n",
    "    dog_tweets = tweet_archive_c[tweet_archive_c.tweet_id == twtid]\n",
    "    \n",
    "    \n",
    "#if a tweet has any type value(s) that is not 'None', we will, set the first one to whatever value(s) it is\n",
    "# and drop the other three rows.\n",
    "    if dog_tweets.type.values.tolist()[0] != 'None':\n",
    "        doge_type = dog_tweets[dog_tweets.type != 'None'].type.values.tolist()\n",
    "        tweet_archive_c.loc[idx, 'type'] = ','.join(doge_type)\n",
    "    \n",
    "        tweet_archive_c = tweet_archive_c.drop(labels = dog_tweets.index.values.tolist()[1:], axis = 0)\n",
    "        continue\n",
    "        \n",
    "    if dog_tweets.type.values.tolist()[1] != 'None':\n",
    "        doge_type = dog_tweets[dog_tweets.type != 'None'].type.values.tolist()\n",
    "        tweet_archive_c.loc[idx, 'type'] = ','.join(doge_type)\n",
    "        tweet_archive_c = tweet_archive_c.drop(labels = dog_tweets.index.values.tolist()[1:], axis = 0)\n",
    "        continue\n",
    "        \n",
    "    if dog_tweets.type.values.tolist()[2] != 'None':\n",
    "        doge_type = dog_tweets[dog_tweets.type != 'None'].type.values.tolist()\n",
    "        tweet_archive_c.loc[idx, 'type'] = ','.join(doge_type)\n",
    "        tweet_archive_c = tweet_archive_c.drop(labels = dog_tweets.index.values.tolist()[1:], axis = 0)\n",
    "        continue\n",
    "        \n",
    "    if dog_tweets.type.values.tolist()[3] != 'None':\n",
    "        doge_type = dog_tweets[dog_tweets.type != 'None'].type.values.tolist()\n",
    "        tweet_archive_c.loc[idx, 'type'] = ','.join(doge_type)\n",
    "        tweet_archive_c = tweet_archive_c.drop(labels = dog_tweets.index.values.tolist()[1:], axis = 0)\n",
    "        continue\n",
    "        \n",
    "#if a tweet has type value 'None' for all four types, we will just drop the last three rows\n",
    "    else: \n",
    "        tweet_archive_c = tweet_archive_c.drop(labels = dog_tweets.index.values.tolist()[1:], axis = 0)"
   ]
  },
  {
   "cell_type": "markdown",
   "metadata": {},
   "source": [
    "2. Merging data frames"
   ]
  },
  {
   "cell_type": "code",
   "execution_count": 34,
   "metadata": {},
   "outputs": [],
   "source": [
    "tweet_archive_c = pd.merge(tweet_archive_c, doggo_df_c, on = ['tweet_id'], how = 'inner')"
   ]
  },
  {
   "cell_type": "code",
   "execution_count": 35,
   "metadata": {},
   "outputs": [],
   "source": [
    "tweet_archive_c = pd.merge(tweet_archive_c, doggo_data_c, on ='tweet_id', how = 'inner')"
   ]
  },
  {
   "cell_type": "code",
   "execution_count": 36,
   "metadata": {},
   "outputs": [
    {
     "data": {
      "text/html": [
       "<div>\n",
       "<style scoped>\n",
       "    .dataframe tbody tr th:only-of-type {\n",
       "        vertical-align: middle;\n",
       "    }\n",
       "\n",
       "    .dataframe tbody tr th {\n",
       "        vertical-align: top;\n",
       "    }\n",
       "\n",
       "    .dataframe thead th {\n",
       "        text-align: right;\n",
       "    }\n",
       "</style>\n",
       "<table border=\"1\" class=\"dataframe\">\n",
       "  <thead>\n",
       "    <tr style=\"text-align: right;\">\n",
       "      <th></th>\n",
       "      <th>tweet_id</th>\n",
       "      <th>in_reply_to_status_id</th>\n",
       "      <th>in_reply_to_user_id</th>\n",
       "      <th>retweeted_status_id</th>\n",
       "      <th>retweeted_status_user_id</th>\n",
       "      <th>rating_numerator</th>\n",
       "      <th>rating_denominator</th>\n",
       "      <th>img_num</th>\n",
       "      <th>p1_conf</th>\n",
       "      <th>p2_conf</th>\n",
       "      <th>p3_conf</th>\n",
       "      <th>favorite_count</th>\n",
       "      <th>retweet_count</th>\n",
       "    </tr>\n",
       "  </thead>\n",
       "  <tbody>\n",
       "    <tr>\n",
       "      <th>count</th>\n",
       "      <td>2.066000e+03</td>\n",
       "      <td>2.300000e+01</td>\n",
       "      <td>2.300000e+01</td>\n",
       "      <td>7.500000e+01</td>\n",
       "      <td>7.500000e+01</td>\n",
       "      <td>2066.000000</td>\n",
       "      <td>2066.000000</td>\n",
       "      <td>2066.000000</td>\n",
       "      <td>2066.000000</td>\n",
       "      <td>2.066000e+03</td>\n",
       "      <td>2.066000e+03</td>\n",
       "      <td>2066.000000</td>\n",
       "      <td>2066.000000</td>\n",
       "    </tr>\n",
       "    <tr>\n",
       "      <th>mean</th>\n",
       "      <td>7.380806e+17</td>\n",
       "      <td>6.978112e+17</td>\n",
       "      <td>4.196984e+09</td>\n",
       "      <td>7.628386e+17</td>\n",
       "      <td>1.049949e+16</td>\n",
       "      <td>12.263795</td>\n",
       "      <td>10.513553</td>\n",
       "      <td>1.203291</td>\n",
       "      <td>0.594568</td>\n",
       "      <td>1.346716e-01</td>\n",
       "      <td>6.034151e-02</td>\n",
       "      <td>8330.878993</td>\n",
       "      <td>2772.196031</td>\n",
       "    </tr>\n",
       "    <tr>\n",
       "      <th>std</th>\n",
       "      <td>6.763392e+16</td>\n",
       "      <td>4.359384e+16</td>\n",
       "      <td>0.000000e+00</td>\n",
       "      <td>5.813066e+16</td>\n",
       "      <td>9.092825e+16</td>\n",
       "      <td>40.768770</td>\n",
       "      <td>7.192615</td>\n",
       "      <td>0.562172</td>\n",
       "      <td>0.271062</td>\n",
       "      <td>1.007233e-01</td>\n",
       "      <td>5.094272e-02</td>\n",
       "      <td>12559.432330</td>\n",
       "      <td>4829.572073</td>\n",
       "    </tr>\n",
       "    <tr>\n",
       "      <th>min</th>\n",
       "      <td>6.660209e+17</td>\n",
       "      <td>6.671522e+17</td>\n",
       "      <td>4.196984e+09</td>\n",
       "      <td>6.675094e+17</td>\n",
       "      <td>7.832140e+05</td>\n",
       "      <td>0.000000</td>\n",
       "      <td>2.000000</td>\n",
       "      <td>1.000000</td>\n",
       "      <td>0.044333</td>\n",
       "      <td>1.011300e-08</td>\n",
       "      <td>1.740170e-10</td>\n",
       "      <td>0.000000</td>\n",
       "      <td>11.000000</td>\n",
       "    </tr>\n",
       "    <tr>\n",
       "      <th>25%</th>\n",
       "      <td>6.764332e+17</td>\n",
       "      <td>6.732411e+17</td>\n",
       "      <td>4.196984e+09</td>\n",
       "      <td>7.118465e+17</td>\n",
       "      <td>4.196984e+09</td>\n",
       "      <td>10.000000</td>\n",
       "      <td>10.000000</td>\n",
       "      <td>1.000000</td>\n",
       "      <td>0.364254</td>\n",
       "      <td>5.387868e-02</td>\n",
       "      <td>1.621080e-02</td>\n",
       "      <td>1586.750000</td>\n",
       "      <td>590.000000</td>\n",
       "    </tr>\n",
       "    <tr>\n",
       "      <th>50%</th>\n",
       "      <td>7.117137e+17</td>\n",
       "      <td>6.757073e+17</td>\n",
       "      <td>4.196984e+09</td>\n",
       "      <td>7.761133e+17</td>\n",
       "      <td>4.196984e+09</td>\n",
       "      <td>11.000000</td>\n",
       "      <td>10.000000</td>\n",
       "      <td>1.000000</td>\n",
       "      <td>0.588030</td>\n",
       "      <td>1.184015e-01</td>\n",
       "      <td>4.939645e-02</td>\n",
       "      <td>3664.500000</td>\n",
       "      <td>1304.500000</td>\n",
       "    </tr>\n",
       "    <tr>\n",
       "      <th>75%</th>\n",
       "      <td>7.931317e+17</td>\n",
       "      <td>7.031489e+17</td>\n",
       "      <td>4.196984e+09</td>\n",
       "      <td>7.981456e+17</td>\n",
       "      <td>4.196984e+09</td>\n",
       "      <td>12.000000</td>\n",
       "      <td>10.000000</td>\n",
       "      <td>1.000000</td>\n",
       "      <td>0.843883</td>\n",
       "      <td>1.955693e-01</td>\n",
       "      <td>9.208967e-02</td>\n",
       "      <td>10407.750000</td>\n",
       "      <td>3198.500000</td>\n",
       "    </tr>\n",
       "    <tr>\n",
       "      <th>max</th>\n",
       "      <td>8.924206e+17</td>\n",
       "      <td>8.558181e+17</td>\n",
       "      <td>4.196984e+09</td>\n",
       "      <td>8.768508e+17</td>\n",
       "      <td>7.874618e+17</td>\n",
       "      <td>1776.000000</td>\n",
       "      <td>170.000000</td>\n",
       "      <td>4.000000</td>\n",
       "      <td>1.000000</td>\n",
       "      <td>4.880140e-01</td>\n",
       "      <td>2.734190e-01</td>\n",
       "      <td>162777.000000</td>\n",
       "      <td>82849.000000</td>\n",
       "    </tr>\n",
       "  </tbody>\n",
       "</table>\n",
       "</div>"
      ],
      "text/plain": [
       "           tweet_id  in_reply_to_status_id  in_reply_to_user_id  \\\n",
       "count  2.066000e+03           2.300000e+01         2.300000e+01   \n",
       "mean   7.380806e+17           6.978112e+17         4.196984e+09   \n",
       "std    6.763392e+16           4.359384e+16         0.000000e+00   \n",
       "min    6.660209e+17           6.671522e+17         4.196984e+09   \n",
       "25%    6.764332e+17           6.732411e+17         4.196984e+09   \n",
       "50%    7.117137e+17           6.757073e+17         4.196984e+09   \n",
       "75%    7.931317e+17           7.031489e+17         4.196984e+09   \n",
       "max    8.924206e+17           8.558181e+17         4.196984e+09   \n",
       "\n",
       "       retweeted_status_id  retweeted_status_user_id  rating_numerator  \\\n",
       "count         7.500000e+01              7.500000e+01       2066.000000   \n",
       "mean          7.628386e+17              1.049949e+16         12.263795   \n",
       "std           5.813066e+16              9.092825e+16         40.768770   \n",
       "min           6.675094e+17              7.832140e+05          0.000000   \n",
       "25%           7.118465e+17              4.196984e+09         10.000000   \n",
       "50%           7.761133e+17              4.196984e+09         11.000000   \n",
       "75%           7.981456e+17              4.196984e+09         12.000000   \n",
       "max           8.768508e+17              7.874618e+17       1776.000000   \n",
       "\n",
       "       rating_denominator      img_num      p1_conf       p2_conf  \\\n",
       "count         2066.000000  2066.000000  2066.000000  2.066000e+03   \n",
       "mean            10.513553     1.203291     0.594568  1.346716e-01   \n",
       "std              7.192615     0.562172     0.271062  1.007233e-01   \n",
       "min              2.000000     1.000000     0.044333  1.011300e-08   \n",
       "25%             10.000000     1.000000     0.364254  5.387868e-02   \n",
       "50%             10.000000     1.000000     0.588030  1.184015e-01   \n",
       "75%             10.000000     1.000000     0.843883  1.955693e-01   \n",
       "max            170.000000     4.000000     1.000000  4.880140e-01   \n",
       "\n",
       "            p3_conf  favorite_count  retweet_count  \n",
       "count  2.066000e+03     2066.000000    2066.000000  \n",
       "mean   6.034151e-02     8330.878993    2772.196031  \n",
       "std    5.094272e-02    12559.432330    4829.572073  \n",
       "min    1.740170e-10        0.000000      11.000000  \n",
       "25%    1.621080e-02     1586.750000     590.000000  \n",
       "50%    4.939645e-02     3664.500000    1304.500000  \n",
       "75%    9.208967e-02    10407.750000    3198.500000  \n",
       "max    2.734190e-01   162777.000000   82849.000000  "
      ]
     },
     "execution_count": 36,
     "metadata": {},
     "output_type": "execute_result"
    }
   ],
   "source": [
    "tweet_archive_c.describe()"
   ]
  },
  {
   "cell_type": "code",
   "execution_count": 37,
   "metadata": {},
   "outputs": [
    {
     "name": "stdout",
     "output_type": "stream",
     "text": [
      "<class 'pandas.core.frame.DataFrame'>\n",
      "Int64Index: 2066 entries, 0 to 2065\n",
      "Data columns (total 27 columns):\n",
      "tweet_id                      2066 non-null int64\n",
      "in_reply_to_status_id         23 non-null float64\n",
      "in_reply_to_user_id           23 non-null float64\n",
      "retweeted_status_id           75 non-null float64\n",
      "retweeted_status_user_id      75 non-null float64\n",
      "timestamp                     2066 non-null object\n",
      "source                        2066 non-null object\n",
      "text                          2066 non-null object\n",
      "retweeted_status_timestamp    75 non-null object\n",
      "expanded_urls                 2066 non-null object\n",
      "rating_numerator              2066 non-null int64\n",
      "rating_denominator            2066 non-null int64\n",
      "name                          2066 non-null object\n",
      "type                          2066 non-null object\n",
      "jpg_url                       2066 non-null object\n",
      "img_num                       2066 non-null int64\n",
      "p1                            2066 non-null object\n",
      "p1_conf                       2066 non-null float64\n",
      "p1_dog                        2066 non-null bool\n",
      "p2                            2066 non-null object\n",
      "p2_conf                       2066 non-null float64\n",
      "p2_dog                        2066 non-null bool\n",
      "p3                            2066 non-null object\n",
      "p3_conf                       2066 non-null float64\n",
      "p3_dog                        2066 non-null bool\n",
      "favorite_count                2066 non-null int64\n",
      "retweet_count                 2066 non-null int64\n",
      "dtypes: bool(3), float64(7), int64(6), object(11)\n",
      "memory usage: 409.6+ KB\n"
     ]
    }
   ],
   "source": [
    "tweet_archive_c.info()"
   ]
  },
  {
   "cell_type": "markdown",
   "metadata": {},
   "source": [
    "#### Cleaning for Quality\n",
    "##### Define\n",
    "1. Fixing wrong datatypes\n",
    "Since, we have merged the three dataframes, we can now eaily fix the issue of wrong datatype. "
   ]
  },
  {
   "cell_type": "markdown",
   "metadata": {},
   "source": [
    "###### Code"
   ]
  },
  {
   "cell_type": "code",
   "execution_count": 38,
   "metadata": {},
   "outputs": [],
   "source": [
    "#Convert tweet_id to string\n",
    "tweet_archive_c.tweet_id = tweet_archive_c.tweet_id.astype('str')\n"
   ]
  },
  {
   "cell_type": "code",
   "execution_count": 39,
   "metadata": {},
   "outputs": [],
   "source": [
    "#convert timestamp to datetime\n",
    "tweet_archive_c.timestamp = pd.to_datetime(tweet_archive_c.timestamp)"
   ]
  },
  {
   "cell_type": "markdown",
   "metadata": {},
   "source": [
    "###### Test"
   ]
  },
  {
   "cell_type": "code",
   "execution_count": 40,
   "metadata": {
    "scrolled": true
   },
   "outputs": [
    {
     "name": "stdout",
     "output_type": "stream",
     "text": [
      "<class 'pandas.core.frame.DataFrame'>\n",
      "Int64Index: 2066 entries, 0 to 2065\n",
      "Data columns (total 27 columns):\n",
      "tweet_id                      2066 non-null object\n",
      "in_reply_to_status_id         23 non-null float64\n",
      "in_reply_to_user_id           23 non-null float64\n",
      "retweeted_status_id           75 non-null float64\n",
      "retweeted_status_user_id      75 non-null float64\n",
      "timestamp                     2066 non-null datetime64[ns]\n",
      "source                        2066 non-null object\n",
      "text                          2066 non-null object\n",
      "retweeted_status_timestamp    75 non-null object\n",
      "expanded_urls                 2066 non-null object\n",
      "rating_numerator              2066 non-null int64\n",
      "rating_denominator            2066 non-null int64\n",
      "name                          2066 non-null object\n",
      "type                          2066 non-null object\n",
      "jpg_url                       2066 non-null object\n",
      "img_num                       2066 non-null int64\n",
      "p1                            2066 non-null object\n",
      "p1_conf                       2066 non-null float64\n",
      "p1_dog                        2066 non-null bool\n",
      "p2                            2066 non-null object\n",
      "p2_conf                       2066 non-null float64\n",
      "p2_dog                        2066 non-null bool\n",
      "p3                            2066 non-null object\n",
      "p3_conf                       2066 non-null float64\n",
      "p3_dog                        2066 non-null bool\n",
      "favorite_count                2066 non-null int64\n",
      "retweet_count                 2066 non-null int64\n",
      "dtypes: bool(3), datetime64[ns](1), float64(7), int64(5), object(11)\n",
      "memory usage: 409.6+ KB\n"
     ]
    }
   ],
   "source": [
    "#checking for change\n",
    "tweet_archive_c.info()"
   ]
  },
  {
   "cell_type": "markdown",
   "metadata": {},
   "source": [
    "###### Define"
   ]
  },
  {
   "cell_type": "markdown",
   "metadata": {},
   "source": [
    "2. Resolving the issues with dog's name.\n",
    "\n",
    "\n",
    "  There are words like a, an the in Dog's name column. These are invalid names and have to be removed."
   ]
  },
  {
   "cell_type": "markdown",
   "metadata": {},
   "source": [
    "###### Code"
   ]
  },
  {
   "cell_type": "code",
   "execution_count": 41,
   "metadata": {},
   "outputs": [
    {
     "data": {
      "text/plain": [
       "None        575\n",
       "a            55\n",
       "Tucker       10\n",
       "Penny        10\n",
       "Lucy         10\n",
       "Charlie      10\n",
       "Cooper       10\n",
       "Oliver       10\n",
       "Winston       8\n",
       "Bo            8\n",
       "Sadie         8\n",
       "Lola          8\n",
       "an            7\n",
       "Daisy         7\n",
       "the           7\n",
       "Toby          7\n",
       "Milo          6\n",
       "Jax           6\n",
       "Koda          6\n",
       "Stanley       6\n",
       "Bailey        6\n",
       "Rusty         6\n",
       "Scout         6\n",
       "Dave          6\n",
       "Bella         6\n",
       "Chester       5\n",
       "Buddy         5\n",
       "Oscar         5\n",
       "Leo           5\n",
       "Alfie         5\n",
       "           ... \n",
       "this          1\n",
       "Scott         1\n",
       "Noah          1\n",
       "Oreo          1\n",
       "Batdog        1\n",
       "Timofy        1\n",
       "actually      1\n",
       "Sparky        1\n",
       "his           1\n",
       "Miley         1\n",
       "Andy          1\n",
       "Fwed          1\n",
       "Tupawc        1\n",
       "Shikha        1\n",
       "Rumpole       1\n",
       "Jonah         1\n",
       "Randall       1\n",
       "Tango         1\n",
       "Tom           1\n",
       "Aja           1\n",
       "Hamrick       1\n",
       "Acro          1\n",
       "Tripp         1\n",
       "Lillie        1\n",
       "Aubie         1\n",
       "Caryl         1\n",
       "Tycho         1\n",
       "Ralphé        1\n",
       "Bradlay       1\n",
       "Willem        1\n",
       "Name: name, Length: 935, dtype: int64"
      ]
     },
     "execution_count": 41,
     "metadata": {},
     "output_type": "execute_result"
    }
   ],
   "source": [
    "tweet_archive_c.name.value_counts()\n"
   ]
  },
  {
   "cell_type": "markdown",
   "metadata": {},
   "source": [
    "It can be seen that there are names like a,an etc. and a total of 575 none values. This can be resolved by first finding the names of the dogs which do not start with capital letters & with emply name and moving them to None."
   ]
  },
  {
   "cell_type": "code",
   "execution_count": 42,
   "metadata": {},
   "outputs": [],
   "source": [
    "names_error = []\n",
    "for idx, name in enumerate(tweet_archive_c.name):\n",
    "     if name.islower() or name == 'None':\n",
    "        j = re.compile('(?:named\\s|name\\sis\\s)(\\w+)')\n",
    "        if j.findall(tweet_archive_c.loc[idx,'text']):\n",
    "            tweet_archive_c.loc[idx,'name'] = j.findall(tweet_archive_c.loc[idx,'text'])[0]        \n",
    "        else:\n",
    "            tweet_archive_c.loc[idx,'name'] = 'None'\n"
   ]
  },
  {
   "cell_type": "markdown",
   "metadata": {},
   "source": [
    "###### Test"
   ]
  },
  {
   "cell_type": "code",
   "execution_count": 43,
   "metadata": {},
   "outputs": [
    {
     "data": {
      "text/plain": [
       "None       645\n",
       "Lucy        10\n",
       "Oliver      10\n",
       "Cooper      10\n",
       "Charlie     10\n",
       "Penny       10\n",
       "Tucker      10\n",
       "Winston      8\n",
       "Sadie        8\n",
       "Lola         8\n",
       "Bo           8\n",
       "Toby         7\n",
       "Daisy        7\n",
       "Jax          6\n",
       "Stanley      6\n",
       "Bailey       6\n",
       "Rusty        6\n",
       "Koda         6\n",
       "Dave         6\n",
       "Bella        6\n",
       "Scout        6\n",
       "Milo         6\n",
       "Leo          5\n",
       "Louis        5\n",
       "Alfie        5\n",
       "Zoey         5\n",
       "Oscar        5\n",
       "Chester      5\n",
       "Buddy        5\n",
       "Larry        5\n",
       "          ... \n",
       "Clybe        1\n",
       "Kip          1\n",
       "Scott        1\n",
       "Noah         1\n",
       "Oreo         1\n",
       "Sparky       1\n",
       "Aja          1\n",
       "Bradlay      1\n",
       "Pepe         1\n",
       "Miley        1\n",
       "Andy         1\n",
       "Fwed         1\n",
       "Tupawc       1\n",
       "Shikha       1\n",
       "Rumpole      1\n",
       "Jonah        1\n",
       "Randall      1\n",
       "Tango        1\n",
       "Mike         1\n",
       "Guss         1\n",
       "Tom          1\n",
       "Hamrick      1\n",
       "Acro         1\n",
       "Tripp        1\n",
       "Lillie       1\n",
       "Shaggy       1\n",
       "Caryl        1\n",
       "Tycho        1\n",
       "Ralphé       1\n",
       "Hemry        1\n",
       "Name: name, Length: 936, dtype: int64"
      ]
     },
     "execution_count": 43,
     "metadata": {},
     "output_type": "execute_result"
    }
   ],
   "source": [
    "tweet_archive_c.name.value_counts()"
   ]
  },
  {
   "cell_type": "markdown",
   "metadata": {},
   "source": [
    "The names with none have increased. That means we have moved no names and none capital dog names to none.\n",
    "\n",
    "###### Define\n",
    "\n",
    "3. Missing images to predict breed.\n",
    "Since, we need images to predict the breed of the dog. We will drop all the rows which don't have an image.\n",
    "\n",
    "###### Code"
   ]
  },
  {
   "cell_type": "code",
   "execution_count": 44,
   "metadata": {},
   "outputs": [],
   "source": [
    "tweet_archive_c=tweet_archive_c[~tweet_archive_c.jpg_url.isnull()]\n"
   ]
  },
  {
   "cell_type": "markdown",
   "metadata": {},
   "source": [
    "###### Define\n",
    "4. We don't need reweets and related data.\n",
    "\n",
    "###### Code"
   ]
  },
  {
   "cell_type": "code",
   "execution_count": 45,
   "metadata": {},
   "outputs": [],
   "source": [
    "#dropping reply tweet\n",
    "tweet_archive_clean = tweet_archive_c[tweet_archive_c.in_reply_to_status_id.isnull()]\n",
    "\n",
    "#dropping retweeted tweets\n",
    "tweet_archive_c = tweet_archive_c[tweet_archive_c.retweeted_status_id.isnull()]\n",
    "\n",
    "#dropping columns related to tweets that were retweeted or reply tweets\n",
    "tweet_archive_c = tweet_archive_c.drop(labels = ['in_reply_to_status_id', 'in_reply_to_user_id', 'retweeted_status_id',\n",
    "                           'retweeted_status_user_id', 'retweeted_status_timestamp'], axis = 1 )"
   ]
  },
  {
   "cell_type": "markdown",
   "metadata": {},
   "source": [
    "###### Test"
   ]
  },
  {
   "cell_type": "code",
   "execution_count": 46,
   "metadata": {},
   "outputs": [],
   "source": [
    "#Storing the new cleaned data\n",
    "tweet_archive_c.to_csv('twitter_archive_master.csv', index = False)"
   ]
  },
  {
   "cell_type": "markdown",
   "metadata": {},
   "source": [
    "###### Define\n",
    "\n",
    "5. There are a few tweets that have been deleted.\n",
    "\n",
    "As we have removed deleted tweets, So, we need to ensure that tweets from our deleted_tweets don't come in our dataframe.\n",
    "\n",
    "#### This cell will return an error if you get the api data from the text file, as opposed to accessing the API and then saving the text file.\n",
    "\n",
    "\n",
    "\n",
    "###### Code"
   ]
  },
  {
   "cell_type": "code",
   "execution_count": 47,
   "metadata": {},
   "outputs": [
    {
     "name": "stdout",
     "output_type": "stream",
     "text": [
      "Done!\n"
     ]
    }
   ],
   "source": [
    "for tweet in deleted_tweets:\n",
    "    if str(tweet) in tweet_archive_clean:\n",
    "        print(\"Oops! Something went wrong.\")\n",
    "print('Done!')"
   ]
  },
  {
   "cell_type": "markdown",
   "metadata": {},
   "source": [
    "###### Test\n",
    "As seen, the code is not throwing an error."
   ]
  },
  {
   "cell_type": "markdown",
   "metadata": {},
   "source": [
    "###### Define\n",
    "\n",
    "6. Drop rows that do not have a jpg_url column as tweets without a jpg_url do not contain images.\n",
    "##### This clears up our issue with missing data for the doggo predictions dataframe. Tweets without predictions do not have images\n",
    "\n",
    "###### Code"
   ]
  },
  {
   "cell_type": "code",
   "execution_count": 48,
   "metadata": {},
   "outputs": [],
   "source": [
    "tweet_archive_clean=tweet_archive_clean[~tweet_archive_clean.jpg_url.isnull()]"
   ]
  },
  {
   "cell_type": "markdown",
   "metadata": {},
   "source": [
    "###### Test"
   ]
  },
  {
   "cell_type": "code",
   "execution_count": 49,
   "metadata": {},
   "outputs": [
    {
     "name": "stdout",
     "output_type": "stream",
     "text": [
      "<class 'pandas.core.frame.DataFrame'>\n",
      "Int64Index: 2043 entries, 0 to 2065\n",
      "Data columns (total 27 columns):\n",
      "tweet_id                      2043 non-null object\n",
      "in_reply_to_status_id         0 non-null float64\n",
      "in_reply_to_user_id           0 non-null float64\n",
      "retweeted_status_id           75 non-null float64\n",
      "retweeted_status_user_id      75 non-null float64\n",
      "timestamp                     2043 non-null datetime64[ns]\n",
      "source                        2043 non-null object\n",
      "text                          2043 non-null object\n",
      "retweeted_status_timestamp    75 non-null object\n",
      "expanded_urls                 2043 non-null object\n",
      "rating_numerator              2043 non-null int64\n",
      "rating_denominator            2043 non-null int64\n",
      "name                          2043 non-null object\n",
      "type                          2043 non-null object\n",
      "jpg_url                       2043 non-null object\n",
      "img_num                       2043 non-null int64\n",
      "p1                            2043 non-null object\n",
      "p1_conf                       2043 non-null float64\n",
      "p1_dog                        2043 non-null bool\n",
      "p2                            2043 non-null object\n",
      "p2_conf                       2043 non-null float64\n",
      "p2_dog                        2043 non-null bool\n",
      "p3                            2043 non-null object\n",
      "p3_conf                       2043 non-null float64\n",
      "p3_dog                        2043 non-null bool\n",
      "favorite_count                2043 non-null int64\n",
      "retweet_count                 2043 non-null int64\n",
      "dtypes: bool(3), datetime64[ns](1), float64(7), int64(5), object(11)\n",
      "memory usage: 405.0+ KB\n"
     ]
    }
   ],
   "source": [
    "tweet_archive_clean.info()"
   ]
  },
  {
   "cell_type": "markdown",
   "metadata": {},
   "source": [
    "# Analyzing and Visualizing"
   ]
  },
  {
   "cell_type": "code",
   "execution_count": 50,
   "metadata": {},
   "outputs": [
    {
     "data": {
      "text/html": [
       "<div>\n",
       "<style scoped>\n",
       "    .dataframe tbody tr th:only-of-type {\n",
       "        vertical-align: middle;\n",
       "    }\n",
       "\n",
       "    .dataframe tbody tr th {\n",
       "        vertical-align: top;\n",
       "    }\n",
       "\n",
       "    .dataframe thead th {\n",
       "        text-align: right;\n",
       "    }\n",
       "</style>\n",
       "<table border=\"1\" class=\"dataframe\">\n",
       "  <thead>\n",
       "    <tr style=\"text-align: right;\">\n",
       "      <th></th>\n",
       "      <th>rating_numerator</th>\n",
       "      <th>rating_denominator</th>\n",
       "      <th>img_num</th>\n",
       "      <th>p1_conf</th>\n",
       "      <th>p2_conf</th>\n",
       "      <th>p3_conf</th>\n",
       "      <th>favorite_count</th>\n",
       "      <th>retweet_count</th>\n",
       "    </tr>\n",
       "  </thead>\n",
       "  <tbody>\n",
       "    <tr>\n",
       "      <th>count</th>\n",
       "      <td>1991.000000</td>\n",
       "      <td>1991.000000</td>\n",
       "      <td>1991.000000</td>\n",
       "      <td>1991.000000</td>\n",
       "      <td>1.991000e+03</td>\n",
       "      <td>1.991000e+03</td>\n",
       "      <td>1991.000000</td>\n",
       "      <td>1991.000000</td>\n",
       "    </tr>\n",
       "    <tr>\n",
       "      <th>mean</th>\n",
       "      <td>12.281768</td>\n",
       "      <td>10.532898</td>\n",
       "      <td>1.202913</td>\n",
       "      <td>0.593546</td>\n",
       "      <td>1.344798e-01</td>\n",
       "      <td>6.030671e-02</td>\n",
       "      <td>8644.699146</td>\n",
       "      <td>2622.810146</td>\n",
       "    </tr>\n",
       "    <tr>\n",
       "      <th>std</th>\n",
       "      <td>41.528951</td>\n",
       "      <td>7.326197</td>\n",
       "      <td>0.560878</td>\n",
       "      <td>0.271878</td>\n",
       "      <td>1.006249e-01</td>\n",
       "      <td>5.089760e-02</td>\n",
       "      <td>12687.397149</td>\n",
       "      <td>4681.319519</td>\n",
       "    </tr>\n",
       "    <tr>\n",
       "      <th>min</th>\n",
       "      <td>0.000000</td>\n",
       "      <td>2.000000</td>\n",
       "      <td>1.000000</td>\n",
       "      <td>0.044333</td>\n",
       "      <td>1.011300e-08</td>\n",
       "      <td>1.740170e-10</td>\n",
       "      <td>77.000000</td>\n",
       "      <td>11.000000</td>\n",
       "    </tr>\n",
       "    <tr>\n",
       "      <th>25%</th>\n",
       "      <td>10.000000</td>\n",
       "      <td>10.000000</td>\n",
       "      <td>1.000000</td>\n",
       "      <td>0.362715</td>\n",
       "      <td>5.409535e-02</td>\n",
       "      <td>1.622240e-02</td>\n",
       "      <td>1857.000000</td>\n",
       "      <td>586.000000</td>\n",
       "    </tr>\n",
       "    <tr>\n",
       "      <th>50%</th>\n",
       "      <td>11.000000</td>\n",
       "      <td>10.000000</td>\n",
       "      <td>1.000000</td>\n",
       "      <td>0.587372</td>\n",
       "      <td>1.175080e-01</td>\n",
       "      <td>4.952370e-02</td>\n",
       "      <td>3915.000000</td>\n",
       "      <td>1258.000000</td>\n",
       "    </tr>\n",
       "    <tr>\n",
       "      <th>75%</th>\n",
       "      <td>12.000000</td>\n",
       "      <td>10.000000</td>\n",
       "      <td>1.000000</td>\n",
       "      <td>0.844583</td>\n",
       "      <td>1.950575e-01</td>\n",
       "      <td>9.164355e-02</td>\n",
       "      <td>10770.500000</td>\n",
       "      <td>2994.000000</td>\n",
       "    </tr>\n",
       "    <tr>\n",
       "      <th>max</th>\n",
       "      <td>1776.000000</td>\n",
       "      <td>170.000000</td>\n",
       "      <td>4.000000</td>\n",
       "      <td>1.000000</td>\n",
       "      <td>4.880140e-01</td>\n",
       "      <td>2.734190e-01</td>\n",
       "      <td>162777.000000</td>\n",
       "      <td>82849.000000</td>\n",
       "    </tr>\n",
       "  </tbody>\n",
       "</table>\n",
       "</div>"
      ],
      "text/plain": [
       "       rating_numerator  rating_denominator      img_num      p1_conf  \\\n",
       "count       1991.000000         1991.000000  1991.000000  1991.000000   \n",
       "mean          12.281768           10.532898     1.202913     0.593546   \n",
       "std           41.528951            7.326197     0.560878     0.271878   \n",
       "min            0.000000            2.000000     1.000000     0.044333   \n",
       "25%           10.000000           10.000000     1.000000     0.362715   \n",
       "50%           11.000000           10.000000     1.000000     0.587372   \n",
       "75%           12.000000           10.000000     1.000000     0.844583   \n",
       "max         1776.000000          170.000000     4.000000     1.000000   \n",
       "\n",
       "            p2_conf       p3_conf  favorite_count  retweet_count  \n",
       "count  1.991000e+03  1.991000e+03     1991.000000    1991.000000  \n",
       "mean   1.344798e-01  6.030671e-02     8644.699146    2622.810146  \n",
       "std    1.006249e-01  5.089760e-02    12687.397149    4681.319519  \n",
       "min    1.011300e-08  1.740170e-10       77.000000      11.000000  \n",
       "25%    5.409535e-02  1.622240e-02     1857.000000     586.000000  \n",
       "50%    1.175080e-01  4.952370e-02     3915.000000    1258.000000  \n",
       "75%    1.950575e-01  9.164355e-02    10770.500000    2994.000000  \n",
       "max    4.880140e-01  2.734190e-01   162777.000000   82849.000000  "
      ]
     },
     "execution_count": 50,
     "metadata": {},
     "output_type": "execute_result"
    }
   ],
   "source": [
    "tweet_archive_c.describe()"
   ]
  },
  {
   "cell_type": "code",
   "execution_count": 51,
   "metadata": {
    "scrolled": false
   },
   "outputs": [
    {
     "data": {
      "text/html": [
       "<div>\n",
       "<style scoped>\n",
       "    .dataframe tbody tr th:only-of-type {\n",
       "        vertical-align: middle;\n",
       "    }\n",
       "\n",
       "    .dataframe tbody tr th {\n",
       "        vertical-align: top;\n",
       "    }\n",
       "\n",
       "    .dataframe thead th {\n",
       "        text-align: right;\n",
       "    }\n",
       "</style>\n",
       "<table border=\"1\" class=\"dataframe\">\n",
       "  <thead>\n",
       "    <tr style=\"text-align: right;\">\n",
       "      <th></th>\n",
       "      <th>tweet_id</th>\n",
       "      <th>timestamp</th>\n",
       "      <th>source</th>\n",
       "      <th>text</th>\n",
       "      <th>expanded_urls</th>\n",
       "      <th>rating_numerator</th>\n",
       "      <th>rating_denominator</th>\n",
       "      <th>name</th>\n",
       "      <th>type</th>\n",
       "      <th>jpg_url</th>\n",
       "      <th>...</th>\n",
       "      <th>p1_conf</th>\n",
       "      <th>p1_dog</th>\n",
       "      <th>p2</th>\n",
       "      <th>p2_conf</th>\n",
       "      <th>p2_dog</th>\n",
       "      <th>p3</th>\n",
       "      <th>p3_conf</th>\n",
       "      <th>p3_dog</th>\n",
       "      <th>favorite_count</th>\n",
       "      <th>retweet_count</th>\n",
       "    </tr>\n",
       "  </thead>\n",
       "  <tbody>\n",
       "    <tr>\n",
       "      <th>0</th>\n",
       "      <td>892420643555336193</td>\n",
       "      <td>2017-08-01 16:23:56</td>\n",
       "      <td>&lt;a href=\"http://twitter.com/download/iphone\" r...</td>\n",
       "      <td>This is Phineas. He's a mystical boy. Only eve...</td>\n",
       "      <td>https://twitter.com/dog_rates/status/892420643...</td>\n",
       "      <td>13</td>\n",
       "      <td>10</td>\n",
       "      <td>Phineas</td>\n",
       "      <td>None</td>\n",
       "      <td>https://pbs.twimg.com/media/DGKD1-bXoAAIAUK.jpg</td>\n",
       "      <td>...</td>\n",
       "      <td>0.097049</td>\n",
       "      <td>False</td>\n",
       "      <td>bagel</td>\n",
       "      <td>0.085851</td>\n",
       "      <td>False</td>\n",
       "      <td>banana</td>\n",
       "      <td>0.076110</td>\n",
       "      <td>False</td>\n",
       "      <td>37728</td>\n",
       "      <td>8220</td>\n",
       "    </tr>\n",
       "    <tr>\n",
       "      <th>1</th>\n",
       "      <td>892177421306343426</td>\n",
       "      <td>2017-08-01 00:17:27</td>\n",
       "      <td>&lt;a href=\"http://twitter.com/download/iphone\" r...</td>\n",
       "      <td>This is Tilly. She's just checking pup on you....</td>\n",
       "      <td>https://twitter.com/dog_rates/status/892177421...</td>\n",
       "      <td>13</td>\n",
       "      <td>10</td>\n",
       "      <td>Tilly</td>\n",
       "      <td>None</td>\n",
       "      <td>https://pbs.twimg.com/media/DGGmoV4XsAAUL6n.jpg</td>\n",
       "      <td>...</td>\n",
       "      <td>0.323581</td>\n",
       "      <td>True</td>\n",
       "      <td>Pekinese</td>\n",
       "      <td>0.090647</td>\n",
       "      <td>True</td>\n",
       "      <td>papillon</td>\n",
       "      <td>0.068957</td>\n",
       "      <td>True</td>\n",
       "      <td>32390</td>\n",
       "      <td>6077</td>\n",
       "    </tr>\n",
       "    <tr>\n",
       "      <th>2</th>\n",
       "      <td>891815181378084864</td>\n",
       "      <td>2017-07-31 00:18:03</td>\n",
       "      <td>&lt;a href=\"http://twitter.com/download/iphone\" r...</td>\n",
       "      <td>This is Archie. He is a rare Norwegian Pouncin...</td>\n",
       "      <td>https://twitter.com/dog_rates/status/891815181...</td>\n",
       "      <td>12</td>\n",
       "      <td>10</td>\n",
       "      <td>Archie</td>\n",
       "      <td>None</td>\n",
       "      <td>https://pbs.twimg.com/media/DGBdLU1WsAANxJ9.jpg</td>\n",
       "      <td>...</td>\n",
       "      <td>0.716012</td>\n",
       "      <td>True</td>\n",
       "      <td>malamute</td>\n",
       "      <td>0.078253</td>\n",
       "      <td>True</td>\n",
       "      <td>kelpie</td>\n",
       "      <td>0.031379</td>\n",
       "      <td>True</td>\n",
       "      <td>24394</td>\n",
       "      <td>4021</td>\n",
       "    </tr>\n",
       "    <tr>\n",
       "      <th>3</th>\n",
       "      <td>891689557279858688</td>\n",
       "      <td>2017-07-30 15:58:51</td>\n",
       "      <td>&lt;a href=\"http://twitter.com/download/iphone\" r...</td>\n",
       "      <td>This is Darla. She commenced a snooze mid meal...</td>\n",
       "      <td>https://twitter.com/dog_rates/status/891689557...</td>\n",
       "      <td>13</td>\n",
       "      <td>10</td>\n",
       "      <td>Darla</td>\n",
       "      <td>None</td>\n",
       "      <td>https://pbs.twimg.com/media/DF_q7IAWsAEuuN8.jpg</td>\n",
       "      <td>...</td>\n",
       "      <td>0.170278</td>\n",
       "      <td>False</td>\n",
       "      <td>Labrador_retriever</td>\n",
       "      <td>0.168086</td>\n",
       "      <td>True</td>\n",
       "      <td>spatula</td>\n",
       "      <td>0.040836</td>\n",
       "      <td>False</td>\n",
       "      <td>41042</td>\n",
       "      <td>8375</td>\n",
       "    </tr>\n",
       "    <tr>\n",
       "      <th>4</th>\n",
       "      <td>891327558926688256</td>\n",
       "      <td>2017-07-29 16:00:24</td>\n",
       "      <td>&lt;a href=\"http://twitter.com/download/iphone\" r...</td>\n",
       "      <td>This is Franklin. He would like you to stop ca...</td>\n",
       "      <td>https://twitter.com/dog_rates/status/891327558...</td>\n",
       "      <td>12</td>\n",
       "      <td>10</td>\n",
       "      <td>Franklin</td>\n",
       "      <td>None</td>\n",
       "      <td>https://pbs.twimg.com/media/DF6hr6BUMAAzZgT.jpg</td>\n",
       "      <td>...</td>\n",
       "      <td>0.555712</td>\n",
       "      <td>True</td>\n",
       "      <td>English_springer</td>\n",
       "      <td>0.225770</td>\n",
       "      <td>True</td>\n",
       "      <td>German_short-haired_pointer</td>\n",
       "      <td>0.175219</td>\n",
       "      <td>True</td>\n",
       "      <td>39233</td>\n",
       "      <td>9080</td>\n",
       "    </tr>\n",
       "  </tbody>\n",
       "</table>\n",
       "<p>5 rows × 22 columns</p>\n",
       "</div>"
      ],
      "text/plain": [
       "             tweet_id           timestamp  \\\n",
       "0  892420643555336193 2017-08-01 16:23:56   \n",
       "1  892177421306343426 2017-08-01 00:17:27   \n",
       "2  891815181378084864 2017-07-31 00:18:03   \n",
       "3  891689557279858688 2017-07-30 15:58:51   \n",
       "4  891327558926688256 2017-07-29 16:00:24   \n",
       "\n",
       "                                              source  \\\n",
       "0  <a href=\"http://twitter.com/download/iphone\" r...   \n",
       "1  <a href=\"http://twitter.com/download/iphone\" r...   \n",
       "2  <a href=\"http://twitter.com/download/iphone\" r...   \n",
       "3  <a href=\"http://twitter.com/download/iphone\" r...   \n",
       "4  <a href=\"http://twitter.com/download/iphone\" r...   \n",
       "\n",
       "                                                text  \\\n",
       "0  This is Phineas. He's a mystical boy. Only eve...   \n",
       "1  This is Tilly. She's just checking pup on you....   \n",
       "2  This is Archie. He is a rare Norwegian Pouncin...   \n",
       "3  This is Darla. She commenced a snooze mid meal...   \n",
       "4  This is Franklin. He would like you to stop ca...   \n",
       "\n",
       "                                       expanded_urls  rating_numerator  \\\n",
       "0  https://twitter.com/dog_rates/status/892420643...                13   \n",
       "1  https://twitter.com/dog_rates/status/892177421...                13   \n",
       "2  https://twitter.com/dog_rates/status/891815181...                12   \n",
       "3  https://twitter.com/dog_rates/status/891689557...                13   \n",
       "4  https://twitter.com/dog_rates/status/891327558...                12   \n",
       "\n",
       "   rating_denominator      name  type  \\\n",
       "0                  10   Phineas  None   \n",
       "1                  10     Tilly  None   \n",
       "2                  10    Archie  None   \n",
       "3                  10     Darla  None   \n",
       "4                  10  Franklin  None   \n",
       "\n",
       "                                           jpg_url      ...         p1_conf  \\\n",
       "0  https://pbs.twimg.com/media/DGKD1-bXoAAIAUK.jpg      ...        0.097049   \n",
       "1  https://pbs.twimg.com/media/DGGmoV4XsAAUL6n.jpg      ...        0.323581   \n",
       "2  https://pbs.twimg.com/media/DGBdLU1WsAANxJ9.jpg      ...        0.716012   \n",
       "3  https://pbs.twimg.com/media/DF_q7IAWsAEuuN8.jpg      ...        0.170278   \n",
       "4  https://pbs.twimg.com/media/DF6hr6BUMAAzZgT.jpg      ...        0.555712   \n",
       "\n",
       "  p1_dog                  p2   p2_conf p2_dog                           p3  \\\n",
       "0  False               bagel  0.085851  False                       banana   \n",
       "1   True            Pekinese  0.090647   True                     papillon   \n",
       "2   True            malamute  0.078253   True                       kelpie   \n",
       "3  False  Labrador_retriever  0.168086   True                      spatula   \n",
       "4   True    English_springer  0.225770   True  German_short-haired_pointer   \n",
       "\n",
       "    p3_conf p3_dog  favorite_count  retweet_count  \n",
       "0  0.076110  False           37728           8220  \n",
       "1  0.068957   True           32390           6077  \n",
       "2  0.031379   True           24394           4021  \n",
       "3  0.040836  False           41042           8375  \n",
       "4  0.175219   True           39233           9080  \n",
       "\n",
       "[5 rows x 22 columns]"
      ]
     },
     "execution_count": 51,
     "metadata": {},
     "output_type": "execute_result"
    }
   ],
   "source": [
    "tweet_archive_c.head()"
   ]
  },
  {
   "cell_type": "code",
   "execution_count": 52,
   "metadata": {},
   "outputs": [
    {
     "data": {
      "image/png": "[encoded data removed]",
      "text/plain": [
       "<matplotlib.figure.Figure at 0x7f980341df98>"
      ]
     },
     "metadata": {
      "needs_background": "light"
     },
     "output_type": "display_data"
    }
   ],
   "source": [
    "#Distribution of Favourites counts\n",
    "\n",
    "bin_boundaries = np.linspace(0,140000, 101)\n",
    "plt.hist(tweet_archive_c.favorite_count, bins=bin_boundaries)\n",
    "plt.xlabel('favorite count')\n",
    "plt.ylabel('frequency')\n",
    "plt.title('Distribution of favorite count');"
   ]
  },
  {
   "cell_type": "code",
   "execution_count": 53,
   "metadata": {},
   "outputs": [
    {
     "data": {
      "image/png": "[encoded data removed]",
      "text/plain": [
       "<matplotlib.figure.Figure at 0x7f9801266828>"
      ]
     },
     "metadata": {
      "needs_background": "light"
     },
     "output_type": "display_data"
    }
   ],
   "source": [
    "#Dsitribution of Retweet Counts\n",
    "\n",
    "bin_boundaries = np.linspace(0,140000, 101)\n",
    "plt.hist(tweet_archive_c.retweet_count, bins=bin_boundaries)\n",
    "plt.xlabel('Retweet Count')\n",
    "plt.ylabel('frequency')\n",
    "plt.title('Distribution of Retweet count');"
   ]
  },
  {
   "cell_type": "markdown",
   "metadata": {},
   "source": [
    "Since both the Retweet Counts and Favorite Counts are heavily skewed, we will have to use log transformations on the data."
   ]
  },
  {
   "cell_type": "code",
   "execution_count": 54,
   "metadata": {},
   "outputs": [],
   "source": [
    "to_log = ['favorite_count']\n",
    "df_logged = tweet_archive_c[to_log].applymap(lambda x: np.log10(x))"
   ]
  },
  {
   "cell_type": "code",
   "execution_count": 55,
   "metadata": {},
   "outputs": [
    {
     "data": {
      "image/png": "[encoded data removed]",
      "text/plain": [
       "<matplotlib.figure.Figure at 0x7f9801226550>"
      ]
     },
     "metadata": {
      "needs_background": "light"
     },
     "output_type": "display_data"
    }
   ],
   "source": [
    "plt.hist(x = df_logged.favorite_count, bins = 100)\n",
    "plt.show()"
   ]
  },
  {
   "cell_type": "markdown",
   "metadata": {},
   "source": [
    "It can be observed that log transformation of favorite count is normally distributed."
   ]
  },
  {
   "cell_type": "code",
   "execution_count": 56,
   "metadata": {},
   "outputs": [],
   "source": [
    "to_log = ['retweet_count']\n",
    "df_loggedr = tweet_archive_c[to_log].applymap(lambda x: np.log10(x))"
   ]
  },
  {
   "cell_type": "code",
   "execution_count": 57,
   "metadata": {
    "scrolled": false
   },
   "outputs": [
    {
     "data": {
      "image/png": "[encoded data removed]",
      "text/plain": [
       "<matplotlib.figure.Figure at 0x7f980125ce10>"
      ]
     },
     "metadata": {
      "needs_background": "light"
     },
     "output_type": "display_data"
    }
   ],
   "source": [
    "plt.hist(x = df_loggedr.retweet_count, bins = 100)\n",
    "plt.show()"
   ]
  },
  {
   "cell_type": "markdown",
   "metadata": {},
   "source": [
    "It can be observed that log transformation of retweet count is normally distributed.\n"
   ]
  },
  {
   "cell_type": "code",
   "execution_count": 58,
   "metadata": {
    "scrolled": true
   },
   "outputs": [
    {
     "data": {
      "image/png": "[encoded data removed]",
      "text/plain": [
       "<matplotlib.figure.Figure at 0x7f980107e128>"
      ]
     },
     "metadata": {
      "needs_background": "light"
     },
     "output_type": "display_data"
    },
    {
     "data": {
      "text/plain": [
       "0.96789460585285692"
      ]
     },
     "execution_count": 58,
     "metadata": {},
     "output_type": "execute_result"
    }
   ],
   "source": [
    "plt.figure(1, figsize = (11, 8.5))\n",
    "plt.plot(df_logged.favorite_count, df_loggedr.retweet_count, marker='o', linestyle='', ms=2 )\n",
    "plt.title('Log(Retweet Count) versus Log(Favorite Count)')\n",
    "plt.xlabel('Log(Favorite Count)')\n",
    "plt.ylabel('Log(Retweet Count)')\n",
    "plt.show()\n",
    "np.corrcoef(df_loggedr.retweet_count, df_logged.favorite_count)[0][1]\n",
    "\n",
    "\n"
   ]
  },
  {
   "cell_type": "markdown",
   "metadata": {},
   "source": [
    "This shows that retweet count and favorite count have a very strong direct relationship."
   ]
  },
  {
   "cell_type": "markdown",
   "metadata": {},
   "source": [
    "\n",
    "##### Distribution of rating numerator"
   ]
  },
  {
   "cell_type": "code",
   "execution_count": 59,
   "metadata": {},
   "outputs": [
    {
     "data": {
      "text/plain": [
       "count    1991.000000\n",
       "mean       12.281768\n",
       "std        41.528951\n",
       "min         0.000000\n",
       "25%        10.000000\n",
       "50%        11.000000\n",
       "75%        12.000000\n",
       "max      1776.000000\n",
       "Name: rating_numerator, dtype: float64"
      ]
     },
     "execution_count": 59,
     "metadata": {},
     "output_type": "execute_result"
    }
   ],
   "source": [
    "tweet_archive_c.rating_numerator.describe()"
   ]
  },
  {
   "cell_type": "code",
   "execution_count": 60,
   "metadata": {},
   "outputs": [
    {
     "data": {
      "text/plain": [
       "Text(0.5,1,'Distribution of rating_numerator')"
      ]
     },
     "execution_count": 60,
     "metadata": {},
     "output_type": "execute_result"
    },
    {
     "data": {
      "image/png": "[encoded data removed]",
      "text/plain": [
       "<matplotlib.figure.Figure at 0x7f98010cdd68>"
      ]
     },
     "metadata": {
      "needs_background": "light"
     },
     "output_type": "display_data"
    }
   ],
   "source": [
    "plt.hist(tweet_archive_c.rating_numerator)\n",
    "plt.xlabel('rating_numerator')\n",
    "plt.ylabel('frequency')\n",
    "plt.title('Distribution of rating_numerator')"
   ]
  },
  {
   "cell_type": "code",
   "execution_count": 61,
   "metadata": {},
   "outputs": [
    {
     "data": {
      "text/plain": [
       "rating_numerator\n",
       "0         2\n",
       "1         5\n",
       "2         9\n",
       "3        19\n",
       "4        16\n",
       "5        33\n",
       "6        32\n",
       "7        52\n",
       "8        95\n",
       "9       151\n",
       "10      418\n",
       "11      396\n",
       "12      449\n",
       "13      260\n",
       "14       35\n",
       "24        1\n",
       "26        1\n",
       "27        1\n",
       "44        1\n",
       "45        1\n",
       "50        1\n",
       "60        1\n",
       "75        1\n",
       "80        1\n",
       "84        1\n",
       "88        1\n",
       "99        1\n",
       "121       1\n",
       "143       1\n",
       "144       1\n",
       "165       1\n",
       "204       1\n",
       "420       1\n",
       "1776      1\n",
       "Name: tweet_id, dtype: int64"
      ]
     },
     "execution_count": 61,
     "metadata": {},
     "output_type": "execute_result"
    }
   ],
   "source": [
    "# Since the above graph doesn;t express much,\n",
    "rating_counts = tweet_archive_c.groupby(['rating_numerator']).count()['tweet_id']\n",
    "rating_counts"
   ]
  },
  {
   "cell_type": "markdown",
   "metadata": {},
   "source": [
    "Since, we failed to plot a graph with that vivid rating numerator, we can observe that the ratings till 14 has more than one values. SO we wiil plot a graph with ratings from 0 to 14."
   ]
  },
  {
   "cell_type": "code",
   "execution_count": 62,
   "metadata": {},
   "outputs": [],
   "source": [
    "tweet_archive_c.rating_numerator = tweet_archive_c.rating_numerator.astype('float')\n"
   ]
  },
  {
   "cell_type": "code",
   "execution_count": 63,
   "metadata": {},
   "outputs": [],
   "source": [
    "tweet_archive_c_integer_ratings_14 = tweet_archive_c[(tweet_archive_c.rating_numerator <= 14) & (tweet_archive_c.rating_numerator.apply(float.is_integer))]\n"
   ]
  },
  {
   "cell_type": "code",
   "execution_count": 64,
   "metadata": {},
   "outputs": [
    {
     "data": {
      "text/plain": [
       "rating_numerator\n",
       "0.0       2\n",
       "1.0       5\n",
       "2.0       9\n",
       "3.0      19\n",
       "4.0      16\n",
       "5.0      33\n",
       "6.0      32\n",
       "7.0      52\n",
       "8.0      95\n",
       "9.0     151\n",
       "10.0    418\n",
       "11.0    396\n",
       "12.0    449\n",
       "13.0    260\n",
       "14.0     35\n",
       "Name: tweet_id, dtype: int64"
      ]
     },
     "execution_count": 64,
     "metadata": {},
     "output_type": "execute_result"
    }
   ],
   "source": [
    "subset_df = tweet_archive_c_integer_ratings_14.groupby(['rating_numerator']).count()['tweet_id']\n",
    "\n",
    "subset_df"
   ]
  },
  {
   "cell_type": "code",
   "execution_count": 65,
   "metadata": {},
   "outputs": [
    {
     "data": {
      "image/png": "[encoded data removed]",
      "text/plain": [
       "<matplotlib.figure.Figure at 0x7f98033dbd30>"
      ]
     },
     "metadata": {
      "needs_background": "light"
     },
     "output_type": "display_data"
    }
   ],
   "source": [
    "plt.bar(np.arange(15), subset_df)\n",
    "plt.xticks(np.arange(15))\n",
    "plt.xlabel('rating numerator')\n",
    "plt.ylabel('frequency')\n",
    "plt.title('Rating distributions of numerators between 0 to 14');"
   ]
  },
  {
   "cell_type": "markdown",
   "metadata": {},
   "source": [
    "This distribution shows that most of the pics related rating between 10 to 12. With 12 being the most rated value."
   ]
  },
  {
   "cell_type": "code",
   "execution_count": 66,
   "metadata": {
    "scrolled": true
   },
   "outputs": [
    {
     "data": {
      "image/png": "[encoded data removed]",
      "text/plain": [
       "<matplotlib.figure.Figure at 0x7f9800e95710>"
      ]
     },
     "metadata": {
      "needs_background": "light"
     },
     "output_type": "display_data"
    }
   ],
   "source": [
    "plt.plot(df_loggedr.retweet_count, tweet_archive_c.rating_numerator, marker ='o', linestyle='', ms= 2)\n",
    "plt.title('Numerator Rating versus Log(Favorite Count)')\n",
    "plt.xlabel('Log(Favorite Count)')\n",
    "plt.ylabel('Numerator Rating')\n",
    "plt.ylim(0,15)\n",
    "plt.show()"
   ]
  },
  {
   "cell_type": "markdown",
   "metadata": {},
   "source": [
    "This shows that pics with better ratings receive better retweets."
   ]
  },
  {
   "cell_type": "code",
   "execution_count": 67,
   "metadata": {
    "scrolled": true
   },
   "outputs": [
    {
     "data": {
      "image/png": "[encoded data removed]",
      "text/plain": [
       "<matplotlib.figure.Figure at 0x7f9800ee4a20>"
      ]
     },
     "metadata": {
      "needs_background": "light"
     },
     "output_type": "display_data"
    }
   ],
   "source": [
    "plt.figure(1, figsize = (13, 8.5))\n",
    "plt.plot(tweet_archive_c.timestamp, tweet_archive_c.rating_numerator, marker='o', linestyle='', ms = 2)\n",
    "plt.ylim(0,15)\n",
    "plt.title('Rating Over Time')\n",
    "plt.ylabel('Rating (numerator)')\n",
    "plt.xlabel('Time (Year - Month)')\n",
    "plt.show()"
   ]
  },
  {
   "cell_type": "markdown",
   "metadata": {},
   "source": [
    "This shows pics with better rating keep receiving ratings over time."
   ]
  },
  {
   "cell_type": "code",
   "execution_count": 68,
   "metadata": {},
   "outputs": [
    {
     "data": {
      "image/png": "[encoded data removed]",
      "text/plain": [
       "<matplotlib.figure.Figure at 0x7f9800e1c080>"
      ]
     },
     "metadata": {
      "needs_background": "light"
     },
     "output_type": "display_data"
    }
   ],
   "source": [
    "plt.figure(1, figsize = (11, 8.5))\n",
    "plt.plot(tweet_archive_c.timestamp ,df_loggedr.retweet_count, marker = 'o', linestyle = '', ms = 2)\n",
    "plt.title('Favorite Count Over Time')\n",
    "plt.xlabel('Time (Year - Month)')\n",
    "plt.ylabel('Log(Favorite Count)')\n",
    "plt.show()"
   ]
  },
  {
   "cell_type": "markdown",
   "metadata": {},
   "source": [
    "The above plot shows that this account was quite popular at the beginning but slowly started to fade away."
   ]
  },
  {
   "cell_type": "code",
   "execution_count": null,
   "metadata": {},
   "outputs": [],
   "source": []
  }
 ],
 "metadata": {
  "kernelspec": {
   "display_name": "Python 3",
   "language": "python",
   "name": "python3"
  },
  "language_info": {
   "codemirror_mode": {
    "name": "ipython",
    "version": 3
   },
   "file_extension": ".py",
   "mimetype": "text/x-python",
   "name": "python",
   "nbconvert_exporter": "python",
   "pygments_lexer": "ipython3",
   "version": "3.6.3"
  }
 },
 "nbformat": 4,
 "nbformat_minor": 2
}
